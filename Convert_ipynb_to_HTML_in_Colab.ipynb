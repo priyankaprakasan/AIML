{
  "nbformat": 4,
  "nbformat_minor": 0,
  "metadata": {
    "colab": {
      "name": "Convert ipynb to HTML in Colab.ipynb",
      "provenance": [],
      "include_colab_link": true
    },
    "kernelspec": {
      "name": "python3",
      "display_name": "Python 3"
    },
    "language_info": {
      "name": "python"
    }
  },
  "cells": [
    {
      "cell_type": "markdown",
      "metadata": {
        "id": "view-in-github",
        "colab_type": "text"
      },
      "source": [
        "<a href=\"https://colab.research.google.com/github/priyankaprakasan/AIML/blob/main/Convert_ipynb_to_HTML_in_Colab.ipynb\" target=\"_parent\"><img src=\"https://colab.research.google.com/assets/colab-badge.svg\" alt=\"Open In Colab\"/></a>"
      ]
    },
    {
      "cell_type": "markdown",
      "source": [
        "**Instruction**:    \n",
        "1. Download the ipynb, which you want to convert, on your local computer.    \n",
        "2. Run the code below to upload the ipynb.  \n",
        "3. The html version will be downloaded automatically on your local machine.\n",
        "\n",
        "Enjoy it!"
      ],
      "metadata": {
        "id": "OOUwSOZ4AqyT"
      }
    },
    {
      "cell_type": "code",
      "execution_count": null,
      "metadata": {
        "id": "4FhcP565-JpA"
      },
      "outputs": [],
      "source": [
        "#@title Convert ipynb to HTML in Colab\n",
        "# Upload ipynb\n",
        "from google.colab import files\n",
        "f = files.upload()\n",
        "\n",
        "# Convert ipynb to html\n",
        "import subprocess\n",
        "file0 = list(f.keys())[0]\n",
        "_ = subprocess.run([\"pip\", \"install\", \"nbconvert\"])\n",
        "_ = subprocess.run([\"jupyter\", \"nbconvert\", file0, \"--to\", \"html\"])\n",
        "\n",
        "# download the html\n",
        "files.download(file0[:-5]+\"html\")\n"
      ]
    },
    {
      "cell_type": "code",
      "source": [
        "import numpy as np\n",
        "import pandas as pd\n",
        "import time as t"
      ],
      "metadata": {
        "id": "R4I7PkUc8Zny"
      },
      "execution_count": 8,
      "outputs": []
    },
    {
      "cell_type": "code",
      "source": [
        "set={12,13,12,'Zen','Aman','Ren','Dame',True, False}\n",
        "set"
      ],
      "metadata": {
        "id": "vW5eaxdKsSMC",
        "outputId": "bf634dcd-9268-4215-e794-70f216932063",
        "colab": {
          "base_uri": "https://localhost:8080/"
        }
      },
      "execution_count": null,
      "outputs": [
        {
          "output_type": "execute_result",
          "data": {
            "text/plain": [
              "{12, 13, 'Aman', 'Dame', False, 'Ren', True, 'Zen'}"
            ]
          },
          "metadata": {},
          "execution_count": 7
        }
      ]
    },
    {
      "cell_type": "code",
      "source": [
        "set.add()"
      ],
      "metadata": {
        "id": "GNPzTO42sac6",
        "outputId": "4081f18f-4532-4479-dce3-b39905aea61e",
        "colab": {
          "base_uri": "https://localhost:8080/",
          "height": 141
        }
      },
      "execution_count": null,
      "outputs": [
        {
          "output_type": "error",
          "ename": "TypeError",
          "evalue": "set.add() takes exactly one argument (0 given)",
          "traceback": [
            "\u001b[0;31m---------------------------------------------------------------------------\u001b[0m",
            "\u001b[0;31mTypeError\u001b[0m                                 Traceback (most recent call last)",
            "\u001b[0;32m/tmp/ipython-input-827732993.py\u001b[0m in \u001b[0;36m<cell line: 0>\u001b[0;34m()\u001b[0m\n\u001b[0;32m----> 1\u001b[0;31m \u001b[0mset\u001b[0m\u001b[0;34m.\u001b[0m\u001b[0madd\u001b[0m\u001b[0;34m(\u001b[0m\u001b[0;34m)\u001b[0m\u001b[0;34m\u001b[0m\u001b[0;34m\u001b[0m\u001b[0m\n\u001b[0m",
            "\u001b[0;31mTypeError\u001b[0m: set.add() takes exactly one argument (0 given)"
          ]
        }
      ]
    },
    {
      "cell_type": "code",
      "source": [
        "dict={'name': 34.5}\n",
        "dict"
      ],
      "metadata": {
        "id": "XOFQrDtCuVN8",
        "outputId": "36336966-8b01-4023-dc6e-441fb0aa53ad",
        "colab": {
          "base_uri": "https://localhost:8080/"
        }
      },
      "execution_count": null,
      "outputs": [
        {
          "output_type": "execute_result",
          "data": {
            "text/plain": [
              "{'name': 34.5}"
            ]
          },
          "metadata": {},
          "execution_count": 13
        }
      ]
    },
    {
      "cell_type": "code",
      "source": [
        "dict['name']=67\n",
        "dict.setdefault('lastname')"
      ],
      "metadata": {
        "id": "sEqdr8aTviQ4"
      },
      "execution_count": null,
      "outputs": []
    },
    {
      "cell_type": "code",
      "source": [
        "dict"
      ],
      "metadata": {
        "id": "kGedP76hvjKL",
        "outputId": "62aec2f5-13d1-4cca-802f-af04b437ce0f",
        "colab": {
          "base_uri": "https://localhost:8080/"
        }
      },
      "execution_count": null,
      "outputs": [
        {
          "output_type": "execute_result",
          "data": {
            "text/plain": [
              "{'name': 67, 'lastname': None}"
            ]
          },
          "metadata": {},
          "execution_count": 15
        }
      ]
    },
    {
      "cell_type": "code",
      "source": [
        "dict.setdefault('name')"
      ],
      "metadata": {
        "id": "C-A7OBU4vlP4",
        "outputId": "6ac56098-1b8f-4c2b-c113-c896c56dcb02",
        "colab": {
          "base_uri": "https://localhost:8080/"
        }
      },
      "execution_count": null,
      "outputs": [
        {
          "output_type": "execute_result",
          "data": {
            "text/plain": [
              "67"
            ]
          },
          "metadata": {},
          "execution_count": 20
        }
      ]
    },
    {
      "cell_type": "code",
      "source": [
        "list_1=[1,2,3,6,7]\n",
        "\n",
        "arr1=np.array(list_1)\n",
        "arr2=arr1+[1,1,1,1,1]\n",
        "arr2"
      ],
      "metadata": {
        "id": "cAfYMUCI8VeD",
        "outputId": "0649440a-13dd-49ff-8bf7-c8750c2566c4",
        "colab": {
          "base_uri": "https://localhost:8080/"
        }
      },
      "execution_count": null,
      "outputs": [
        {
          "output_type": "execute_result",
          "data": {
            "text/plain": [
              "array([2, 3, 4, 7, 8])"
            ]
          },
          "metadata": {},
          "execution_count": 36
        }
      ]
    },
    {
      "cell_type": "code",
      "source": [
        "# Size of the array\n",
        "arr2.size"
      ],
      "metadata": {
        "id": "b3DqHMW69Jiu",
        "outputId": "930e00b5-adb9-45fa-f357-28410d0fdc0e",
        "colab": {
          "base_uri": "https://localhost:8080/"
        }
      },
      "execution_count": null,
      "outputs": [
        {
          "output_type": "execute_result",
          "data": {
            "text/plain": [
              "5"
            ]
          },
          "metadata": {},
          "execution_count": 37
        }
      ]
    },
    {
      "cell_type": "code",
      "source": [
        "# Dimension of the array\n",
        "arr2.ndim"
      ],
      "metadata": {
        "id": "nyH42LHQ9Tse",
        "outputId": "59d35e3a-3c97-4f33-be22-841d1085f677",
        "colab": {
          "base_uri": "https://localhost:8080/"
        }
      },
      "execution_count": null,
      "outputs": [
        {
          "output_type": "execute_result",
          "data": {
            "text/plain": [
              "1"
            ]
          },
          "metadata": {},
          "execution_count": 38
        }
      ]
    },
    {
      "cell_type": "code",
      "source": [
        "# Shape function to know the number of rows and number of columns\n",
        "arr2.shape"
      ],
      "metadata": {
        "id": "MtJwwCY89eiv",
        "outputId": "8d2d40ff-4727-4008-e05b-e308bb7cc569",
        "colab": {
          "base_uri": "https://localhost:8080/"
        }
      },
      "execution_count": null,
      "outputs": [
        {
          "output_type": "execute_result",
          "data": {
            "text/plain": [
              "(5,)"
            ]
          },
          "metadata": {},
          "execution_count": 39
        }
      ]
    },
    {
      "cell_type": "code",
      "source": [
        "# Data type of array\n",
        "arr2.dtype"
      ],
      "metadata": {
        "id": "UK6GTGqu9wio",
        "outputId": "1347a5af-268f-4fc1-fcd3-d95bf4f48751",
        "colab": {
          "base_uri": "https://localhost:8080/"
        }
      },
      "execution_count": null,
      "outputs": [
        {
          "output_type": "execute_result",
          "data": {
            "text/plain": [
              "dtype('int64')"
            ]
          },
          "metadata": {},
          "execution_count": 40
        }
      ]
    },
    {
      "cell_type": "code",
      "source": [
        "## 2D array\n",
        "arr3=np.array([[1,2,3],[3,4,5]])\n",
        "arr3.size\n",
        "arr3.dtype"
      ],
      "metadata": {
        "id": "fb1V6ctt9_GQ",
        "outputId": "249ebbc3-f76c-4c43-a0fe-51cb42c0552c",
        "colab": {
          "base_uri": "https://localhost:8080/"
        }
      },
      "execution_count": null,
      "outputs": [
        {
          "output_type": "execute_result",
          "data": {
            "text/plain": [
              "dtype('int64')"
            ]
          },
          "metadata": {},
          "execution_count": 46
        }
      ]
    },
    {
      "cell_type": "code",
      "source": [
        "## 3D array\n",
        "arr4=np.array([[[1,2,3],[3,4,5],[3,4,5]],[[1,2,3],[3,4,5],[3,4,5]]])\n",
        "arr4.shape\n",
        "# 2 is depth, 3 rows, 3 columns"
      ],
      "metadata": {
        "id": "MKPNy59--sPr",
        "outputId": "2179bcfe-3df7-4998-9d43-b8ff53ee16a8",
        "colab": {
          "base_uri": "https://localhost:8080/"
        }
      },
      "execution_count": null,
      "outputs": [
        {
          "output_type": "execute_result",
          "data": {
            "text/plain": [
              "(2, 3, 3)"
            ]
          },
          "metadata": {},
          "execution_count": 51
        }
      ]
    },
    {
      "cell_type": "code",
      "source": [
        "m1=np.array([[1,5],[2,3]])\n",
        "m2=np.array([[2,4],[6,7]])"
      ],
      "metadata": {
        "id": "nYClWJwnBnNX"
      },
      "execution_count": null,
      "outputs": []
    },
    {
      "cell_type": "code",
      "source": [
        "m1"
      ],
      "metadata": {
        "id": "J6Pq2LmgB0DX",
        "outputId": "ac61cc93-aff5-4b33-fff1-8aa9520c97cd",
        "colab": {
          "base_uri": "https://localhost:8080/"
        }
      },
      "execution_count": null,
      "outputs": [
        {
          "output_type": "execute_result",
          "data": {
            "text/plain": [
              "array([[1, 5],\n",
              "       [2, 3]])"
            ]
          },
          "metadata": {},
          "execution_count": 54
        }
      ]
    },
    {
      "cell_type": "code",
      "source": [
        "m2"
      ],
      "metadata": {
        "id": "DikezHuBB2cN",
        "outputId": "4dbeb3bc-087c-470e-ef9c-d15e3204b053",
        "colab": {
          "base_uri": "https://localhost:8080/"
        }
      },
      "execution_count": null,
      "outputs": [
        {
          "output_type": "execute_result",
          "data": {
            "text/plain": [
              "array([[2, 4],\n",
              "       [6, 7]])"
            ]
          },
          "metadata": {},
          "execution_count": 55
        }
      ]
    },
    {
      "cell_type": "markdown",
      "source": [
        "### Element wise multiplication"
      ],
      "metadata": {
        "id": "gg8DGgUjEcrb"
      }
    },
    {
      "cell_type": "code",
      "source": [
        "# Element-wise multiplication\n",
        "m1*m2"
      ],
      "metadata": {
        "id": "wfRamGw_B45V",
        "outputId": "63eae30b-726f-4756-bfbb-21f3d586cc07",
        "colab": {
          "base_uri": "https://localhost:8080/"
        }
      },
      "execution_count": null,
      "outputs": [
        {
          "output_type": "execute_result",
          "data": {
            "text/plain": [
              "array([[ 2, 20],\n",
              "       [12, 21]])"
            ]
          },
          "metadata": {},
          "execution_count": 56
        }
      ]
    },
    {
      "cell_type": "markdown",
      "source": [
        "### Matrix wise multiplication"
      ],
      "metadata": {
        "id": "V8dawR2NEYrZ"
      }
    },
    {
      "cell_type": "code",
      "source": [
        "# Matrix multiplication\n",
        "m1@m2"
      ],
      "metadata": {
        "id": "tqCnzyLHCCiA",
        "outputId": "6487ccbf-5358-40cb-a9eb-5a6111e76def",
        "colab": {
          "base_uri": "https://localhost:8080/"
        }
      },
      "execution_count": null,
      "outputs": [
        {
          "output_type": "execute_result",
          "data": {
            "text/plain": [
              "array([[32, 39],\n",
              "       [22, 29]])"
            ]
          },
          "metadata": {},
          "execution_count": 57
        }
      ]
    },
    {
      "cell_type": "code",
      "source": [
        "tic = t.time()  # capture start time\n",
        "c = m1*m2\n",
        "toc = t.time()  # capture end time\n",
        "print(f\"Element wise version duration: {1000*(toc-tic):.4f} ms \")\n",
        "c"
      ],
      "metadata": {
        "id": "zzakM3uMGw0-",
        "outputId": "d9490624-f6a7-4d11-941c-f711f63bb28b",
        "colab": {
          "base_uri": "https://localhost:8080/"
        }
      },
      "execution_count": null,
      "outputs": [
        {
          "output_type": "stream",
          "name": "stdout",
          "text": [
            "Element wise version duration: 0.1047 ms \n"
          ]
        },
        {
          "output_type": "execute_result",
          "data": {
            "text/plain": [
              "array([[ 2, 20],\n",
              "       [12, 21]])"
            ]
          },
          "metadata": {},
          "execution_count": 63
        }
      ]
    },
    {
      "cell_type": "code",
      "source": [
        "tic = t.time()  # capture start time\n",
        "c = np.dot(m1,m2)\n",
        "toc = t.time()  # capture end time\n",
        "print(f\"Vectorized version duration: {1000*(toc-tic):.4f} ms \")\n",
        "c"
      ],
      "metadata": {
        "id": "ArKxkMeeHDCC",
        "outputId": "55cc19e3-2a56-49fe-b747-c75600105d71",
        "colab": {
          "base_uri": "https://localhost:8080/"
        }
      },
      "execution_count": null,
      "outputs": [
        {
          "output_type": "stream",
          "name": "stdout",
          "text": [
            "Vectorized version duration: 0.1307 ms \n"
          ]
        },
        {
          "output_type": "execute_result",
          "data": {
            "text/plain": [
              "array([[32, 39],\n",
              "       [22, 29]])"
            ]
          },
          "metadata": {},
          "execution_count": 65
        }
      ]
    },
    {
      "cell_type": "code",
      "source": [
        "import numpy as np\n",
        "m1 = np.array([[1, 2], [3, 4]])\n",
        "m2 = np.array([[5, 6], [7, 8]])\n",
        "tic = t.time()  # capture start time\n",
        "c = m1 @ m2\n",
        "toc = t.time()  # capture end time\n",
        "print(f\"Vectorized version duration: {1000*(toc-tic):.4f} ms \")\n",
        "\n",
        "c\n"
      ],
      "metadata": {
        "id": "qjZiZXSRIb1C",
        "outputId": "398f4b2b-30ee-44c5-b1e3-561af4dcc679",
        "colab": {
          "base_uri": "https://localhost:8080/"
        }
      },
      "execution_count": null,
      "outputs": [
        {
          "output_type": "stream",
          "name": "stdout",
          "text": [
            "Vectorized version duration: 0.0803 ms \n"
          ]
        },
        {
          "output_type": "execute_result",
          "data": {
            "text/plain": [
              "array([[19, 22],\n",
              "       [43, 50]])"
            ]
          },
          "metadata": {},
          "execution_count": 75
        }
      ]
    },
    {
      "cell_type": "code",
      "source": [
        "import numpy as np\n",
        "m1 = np.array([[1, 2], [3, 4]])\n",
        "m2 = np.array([[5, 6], [7, 8]])\n",
        "tic = t.time()  # capture start time\n",
        "c = np.dot(m1 , m2)\n",
        "toc = t.time()  # capture end time\n",
        "print(f\"Vectorized version duration: {1000*(toc-tic):.4f} ms \")\n",
        "c\n"
      ],
      "metadata": {
        "id": "crz7idNhIgCW",
        "outputId": "6c4898dc-c9b5-4f8b-dc86-30df16a7b2eb",
        "colab": {
          "base_uri": "https://localhost:8080/"
        }
      },
      "execution_count": null,
      "outputs": [
        {
          "output_type": "stream",
          "name": "stdout",
          "text": [
            "Vectorized version duration: 0.1099 ms \n"
          ]
        },
        {
          "output_type": "execute_result",
          "data": {
            "text/plain": [
              "array([[19, 22],\n",
              "       [43, 50]])"
            ]
          },
          "metadata": {},
          "execution_count": 74
        }
      ]
    },
    {
      "cell_type": "code",
      "source": [
        "!pip install google-search-results"
      ],
      "metadata": {
        "id": "b1cHeuWCwWM6",
        "outputId": "52758565-e4c9-4a26-c0bf-ebabbcf8ef73",
        "colab": {
          "base_uri": "https://localhost:8080/"
        }
      },
      "execution_count": null,
      "outputs": [
        {
          "output_type": "stream",
          "name": "stdout",
          "text": [
            "Collecting google-search-results\n",
            "  Downloading google_search_results-2.4.2.tar.gz (18 kB)\n",
            "  Preparing metadata (setup.py) ... \u001b[?25l\u001b[?25hdone\n",
            "Requirement already satisfied: requests in /usr/local/lib/python3.12/dist-packages (from google-search-results) (2.32.4)\n",
            "Requirement already satisfied: charset_normalizer<4,>=2 in /usr/local/lib/python3.12/dist-packages (from requests->google-search-results) (3.4.3)\n",
            "Requirement already satisfied: idna<4,>=2.5 in /usr/local/lib/python3.12/dist-packages (from requests->google-search-results) (3.10)\n",
            "Requirement already satisfied: urllib3<3,>=1.21.1 in /usr/local/lib/python3.12/dist-packages (from requests->google-search-results) (2.5.0)\n",
            "Requirement already satisfied: certifi>=2017.4.17 in /usr/local/lib/python3.12/dist-packages (from requests->google-search-results) (2025.8.3)\n",
            "Building wheels for collected packages: google-search-results\n",
            "  Building wheel for google-search-results (setup.py) ... \u001b[?25l\u001b[?25hdone\n",
            "  Created wheel for google-search-results: filename=google_search_results-2.4.2-py3-none-any.whl size=32010 sha256=99359b52ce873d6b85843cd46cbc751aaefc6c77158e64276e1d3942f4d153b1\n",
            "  Stored in directory: /root/.cache/pip/wheels/0c/47/f5/89b7e770ab2996baf8c910e7353d6391e373075a0ac213519e\n",
            "Successfully built google-search-results\n",
            "Installing collected packages: google-search-results\n",
            "Successfully installed google-search-results-2.4.2\n"
          ]
        }
      ]
    },
    {
      "cell_type": "code",
      "source": [
        "from serpapi.google_search import GoogleSearch\n",
        "\n",
        "params = {\n",
        "  \"engine\": \"youtube_video\",\n",
        "  \"v\": \"vFcS080VYQ0\",\n",
        "  \"api_key\": \"eee604096c3c87ee509ccc3642a40bec805718f9161881c7bc2fe0e20c195ffc\"\n",
        "}\n",
        "\n",
        "search = GoogleSearch(params)\n",
        "results = search.get_dict()"
      ],
      "metadata": {
        "id": "lcfbeIIE0pHF"
      },
      "execution_count": null,
      "outputs": []
    },
    {
      "cell_type": "code",
      "source": [
        "results"
      ],
      "metadata": {
        "id": "QQ6dCC7l1AKi",
        "outputId": "9421b5b0-6847-4e0a-976e-e990e1176330",
        "colab": {
          "base_uri": "https://localhost:8080/"
        }
      },
      "execution_count": null,
      "outputs": [
        {
          "output_type": "execute_result",
          "data": {
            "text/plain": [
              "{'search_metadata': {'id': '68c7e5bd759dbcb6d0340fc6',\n",
              "  'status': 'Success',\n",
              "  'json_endpoint': 'https://serpapi.com/searches/0bae0572e304ae1a/68c7e5bd759dbcb6d0340fc6.json',\n",
              "  'created_at': '2025-09-15 10:09:01 UTC',\n",
              "  'processed_at': '2025-09-15 10:09:01 UTC',\n",
              "  'youtube_video_url': 'https://www.youtube.com/watch?v=vFcS080VYQ0',\n",
              "  'raw_html_file': 'https://serpapi.com/searches/0bae0572e304ae1a/68c7e5bd759dbcb6d0340fc6.html',\n",
              "  'prettify_html_file': 'https://serpapi.com/searches/0bae0572e304ae1a/68c7e5bd759dbcb6d0340fc6.prettify',\n",
              "  'total_time_taken': 1.32},\n",
              " 'search_parameters': {'engine': 'youtube_video', 'v': 'vFcS080VYQ0'},\n",
              " 'title': 'The basics about: Coffee',\n",
              " 'thumbnail': 'https://i.ytimg.com/vi/vFcS080VYQ0/maxresdefault.jpg',\n",
              " 'channel': {'name': 'Old Game Box',\n",
              "  'thumbnail': 'https://yt3.ggpht.com/ytc/AIdro_kMZ5WTp1HyAeBY2MwKPN5lZqyatfx9LzFKolh6v_OTdBo=s176-c-k-c0x00ffffff-no-rj',\n",
              "  'link': 'https://www.youtube.com/@OldGameBox',\n",
              "  'subscribers': '16.5K subscribers',\n",
              "  'extracted_subscribers': 16500},\n",
              " 'views': '2,308,812 views',\n",
              " 'extracted_views': 2308812,\n",
              " 'likes': '57K',\n",
              " 'extracted_likes': 57000,\n",
              " 'published_date': 'Mar 5, 2016',\n",
              " 'description': {'content': 'I\\'m no expert, but I do enjoy a nice cup of coffee.\\n\\nI know this channel is about games, but you drink something while playing every now and then, right?\\nIf you don\\'t, then why don\\'t you give it a try?\\n\\nLet me know what you think!\\n\\nTwitter:\\n\\xa0\\xa0/\\xa0oldgamebox\\xa0\\xa0\\n\\nBackground music:\\n\"George Street Shuffle\"\\nby Kevin MacLeod (incompetech.com)',\n",
              "  'links': [{'start_index': 241,\n",
              "    'length': 16,\n",
              "    'text': '\\xa0\\xa0/\\xa0oldgamebox\\xa0\\xa0',\n",
              "    'url': 'https://twitter.com/OldGameBox'}]},\n",
              " 'chapters': [{'title': 'Intro',\n",
              "   'thumbnail': 'https://i.ytimg.com/vi/vFcS080VYQ0/hqdefault_8866.jpg?sqp=-oaymwEnCNACELwBSFryq4qpAxkIARUAAIhCGAHYAQHiAQoIGBACGAY4AUAB&rs=AOn4CLBjEU5CyZkRa0jVFiAYzI4zMZjQRA',\n",
              "   'time_start': 0},\n",
              "  {'title': 'Types of coffee',\n",
              "   'thumbnail': 'https://i.ytimg.com/vi/vFcS080VYQ0/hqdefault_50833.jpg?sqp=-oaymwEnCNACELwBSFryq4qpAxkIARUAAIhCGAHYAQHiAQoIGBACGAY4AUAB&rs=AOn4CLCP5ZA6E7HNgFhNVs95I-Kg-bunZA',\n",
              "   'time_start': 40},\n",
              "  {'title': 'Roasts',\n",
              "   'thumbnail': 'https://i.ytimg.com/vi/vFcS080VYQ0/hqdefault_150800.jpg?sqp=-oaymwEnCNACELwBSFryq4qpAxkIARUAAIhCGAHYAQHiAQoIGBACGAY4AUAB&rs=AOn4CLBJJH8AtRyaPbCkmO0kvyfg1cc0Vg',\n",
              "   'time_start': 122},\n",
              "  {'title': 'Water',\n",
              "   'thumbnail': 'https://i.ytimg.com/vi/vFcS080VYQ0/hqdefault_215766.jpg?sqp=-oaymwEnCNACELwBSFryq4qpAxkIARUAAIhCGAHYAQHiAQoIGBACGAY4AUAB&rs=AOn4CLDdGbXQm8jR2KKMSZwyKC_LrUuWpw',\n",
              "   'time_start': 192}],\n",
              " 'related_videos_next_page_token': 'CBQSKRILdkZjUzA4MFZZUTDAAQDIAQDgAQGiAg0o____________AUAA-AIAGAAquAdNZ3NJaDVYdjRfbkwzNldLQWRyT2ktc010Z1VLc3dVS0FfSS1BQW9Pd2o0TENQakxrUGlUek52dHdRRUtEc0ktQ3dpT3JlX2EyNXVTaVk0QkNnN0NQZ3NJX3FqRzBmUDN3ZGFnQVFvTndqNEtDSTd2dGM2QnB1YjhYZ29Od2o0S0NJeTQ1dkg2aklpYkhRb0Q4ajRBQ2c3Q1Bnc0l4OGJCdU96bTFJSzlBUW9EOGo0QUNnM0NQZ29JbTZEU3RhYlpwdTl6Q2dQeVBnQUtEc0ktQ3dqVzBjbUxybzdza0pZQkNnUHlQZ0FLRGNJLUNnaml5ckNybzhIbjVEY0tBX0ktQUFvTndqNEtDSXZNMGFyUzZOdUhEd29EOGo0QUNnM0NQZ29JcS1IM3d2YUkzS0l0Q2dQeVBnQUtEY0ktQ2dpeGlfSEcwNGJhLVFVS0FfSS1BQW9Od2o0S0NQejh0dlBNcXBMUU53b0Q4ajRBQ2c3Q1Bnc0lqclBRNEtMXzk0LUJBUW9EOGo0QUNnN0NQZ3NJeC03aDBxemhpczJHQVFvRDhqNEFDZzdDUGdzSWtwYklpNkRIbXBtbUFRb0Q4ajRBQ2c3Q1Bnc0l4dGZTNWRDaHBkdXNBUW9EOGo0QUNnN0NQZ3NJbHBPR29OeXdnYVhGQVFvRDhqNEFDZzdDUGdzSV9KRC11Ym5aaVBIQ0FRb0Q4ajRBQ2czQ1Bnb0lxNGFobGFydXdNbDZDZ1B5UGdBS0RzSS1Dd2pPdzZIUno4YWJyNDhCQ2dQeVBnQUtEc0ktQ3dpYjZjN3dzcjNlaHNVQkNnUHlQZ0FLRHNJLUN3ak41cDctanBIRi0tSUJDZ1B5UGdBS0RjSS1DZ2lreHJ5Y3hmZlZpZ3NLQV9JLUFBb093ajRMQ0llVjctUDV5OS1saWdFU0ZRQUdDQW9NRGhBU0ZCWVlHaHdlSUNJa0ppZ3FMQm9FQ0FBUUFSb0VDQUFRQWhvRUNBQVFBeG9FQ0FBUUJCb0VDQUFRQlJvRUNBWVFCeG9FQ0FnUUNSb0VDQW9RQ3hvRUNBd1FEUm9FQ0E0UUR4b0VDQkFRRVJvRUNCSVFFeG9FQ0JRUUZSb0VDQllRRnhvRUNCZ1FHUm9FQ0JvUUd4b0VDQndRSFJvRUNCNFFIeG9FQ0NBUUlSb0VDQ0lRSXhvRUNDUVFKUm9FQ0NZUUp4b0VDQ2dRS1JvRUNDb1FLeG9FQ0N3UUxTb1ZBQVlJQ2d3T0VCSVVGaGdhSEI0Z0lpUW1LQ29zag93YXRjaC1uZXh0LWZlZWQ%3D',\n",
              " 'end_screen_videos': [{'video_id': 'vQVTNscQY0c',\n",
              "   'link': 'https://www.youtube.com/watch?v=vQVTNscQY0c',\n",
              "   'serpapi_link': 'https://serpapi.com/search.json?engine=youtube_video&v=vQVTNscQY0c',\n",
              "   'thumbnail': 'https://i.ytimg.com/vi/vQVTNscQY0c/hqdefault.jpg?sqp=-oaymwEnCNACELwBSFryq4qpAxkIARUAAIhCGAHYAQHiAQoIGBACGAY4AUAB&rs=AOn4CLC09CvcO2thHwHmS4YbMlC3LGDTPw',\n",
              "   'title': 'Coffee Brewing Methods: French Press vs Pour Over vs AeroPress and more!',\n",
              "   'published_date': '4 years ago',\n",
              "   'views': '2.2M views',\n",
              "   'extracted_views': 2200000,\n",
              "   'length': '17:03',\n",
              "   'channel': {'name': 'European Coffee Trip',\n",
              "    'link': 'https://www.youtube.com/@EuropeanCoffeeTrip'}},\n",
              "  {'video_id': 'c96ayma0kBs',\n",
              "   'link': 'https://www.youtube.com/watch?v=c96ayma0kBs',\n",
              "   'serpapi_link': 'https://serpapi.com/search.json?engine=youtube_video&v=c96ayma0kBs',\n",
              "   'thumbnail': 'https://i.ytimg.com/vi/c96ayma0kBs/hqdefault.jpg?sqp=-oaymwEnCNACELwBSFryq4qpAxkIARUAAIhCGAHYAQHiAQoIGBACGAY4AUAB&rs=AOn4CLDGwpdi8Ey8mk7bnwcSUa8auNQOSQ',\n",
              "   'title': 'The most complete history of coffee and its variants',\n",
              "   'published_date': '3 years ago',\n",
              "   'views': '24K views',\n",
              "   'extracted_views': 24000,\n",
              "   'length': '26:03',\n",
              "   'channel': {'name': 'Atlas',\n",
              "    'link': 'https://www.youtube.com/@atlas-stories'}},\n",
              "  {'video_id': 'liGwcuFyaNY',\n",
              "   'link': 'https://www.youtube.com/watch?v=liGwcuFyaNY',\n",
              "   'serpapi_link': 'https://serpapi.com/search.json?engine=youtube_video&v=liGwcuFyaNY',\n",
              "   'thumbnail': 'https://i.ytimg.com/vi/liGwcuFyaNY/hqdefault.jpg?sqp=-oaymwEnCNACELwBSFryq4qpAxkIARUAAIhCGAHYAQHiAQoIGBACGAY4AUAB&rs=AOn4CLBvXtw-cBsgcBSFXTwV5dxzzCPWPw',\n",
              "   'title': 'Coffee Expert Guesses Cheap vs. Expensive Coffee | Price Points | Epicurious',\n",
              "   'published_date': '7 years ago',\n",
              "   'views': '4.5M views',\n",
              "   'extracted_views': 4500000,\n",
              "   'length': '17:17',\n",
              "   'channel': {'name': 'Epicurious',\n",
              "    'link': 'https://www.youtube.com/@epicurious'}},\n",
              "  {'video_id': 'N8meCjVsJWI',\n",
              "   'link': 'https://www.youtube.com/watch?v=N8meCjVsJWI',\n",
              "   'serpapi_link': 'https://serpapi.com/search.json?engine=youtube_video&v=N8meCjVsJWI',\n",
              "   'thumbnail': 'https://i.ytimg.com/vi/N8meCjVsJWI/hqdefault.jpg?sqp=-oaymwFBCNACELwBSFryq4qpAzMIARUAAIhCGAHYAQHiAQoIGBACGAY4AUAB8AEB-AH-CYAC0AWKAgwIABABGGUgTChDMA8=&rs=AOn4CLAD7BjGei_1KdiuBJyfR5MXqzyQ_A',\n",
              "   'title': \"Everything you've ever wanted to know about coffee | Chandler Graf | TEDxACU\",\n",
              "   'published_date': '8 years ago',\n",
              "   'views': '2.5M views',\n",
              "   'extracted_views': 2500000,\n",
              "   'length': '14:37',\n",
              "   'channel': {'name': 'TEDx Talks', 'link': 'https://www.youtube.com/@TEDx'}},\n",
              "  {'video_id': 'Dw9vRSVUZgs',\n",
              "   'link': 'https://www.youtube.com/watch?v=Dw9vRSVUZgs',\n",
              "   'serpapi_link': 'https://serpapi.com/search.json?engine=youtube_video&v=Dw9vRSVUZgs',\n",
              "   'thumbnail': 'https://i.ytimg.com/vi/Dw9vRSVUZgs/hqdefault.jpg?sqp=-oaymwEnCNACELwBSFryq4qpAxkIARUAAIhCGAHYAQHiAQoIGBACGAY4AUAB&rs=AOn4CLDmK5OztjHwex6jkj_T0ZS4sZBoSQ',\n",
              "   'title': 'Stop Wasting Money on Chicken',\n",
              "   'published_date': '1 month ago',\n",
              "   'views': '1.5M views',\n",
              "   'extracted_views': 1500000,\n",
              "   'length': '15:46',\n",
              "   'channel': {'name': 'TriggTube',\n",
              "    'link': 'https://www.youtube.com/@TriggTube'}},\n",
              "  {'video_id': 'LUVwR2hd8Ks',\n",
              "   'link': 'https://www.youtube.com/watch?v=LUVwR2hd8Ks',\n",
              "   'serpapi_link': 'https://serpapi.com/search.json?engine=youtube_video&v=LUVwR2hd8Ks',\n",
              "   'thumbnail': 'https://i.ytimg.com/vi/LUVwR2hd8Ks/hqdefault.jpg?sqp=-oaymwEnCNACELwBSFryq4qpAxkIARUAAIhCGAHYAQHiAQoIGBACGAY4AUAB&rs=AOn4CLD4fI3xrzilfDXcyPylazxPTNPGHg',\n",
              "   'title': 'Essential Coffee Drinks You Should Know',\n",
              "   'published_date': '1 year ago',\n",
              "   'views': '565K views',\n",
              "   'extracted_views': 565000,\n",
              "   'length': '18:20',\n",
              "   'channel': {'name': 'Morgan Eckroth',\n",
              "    'link': 'https://www.youtube.com/@morgandrinkscoffee'}},\n",
              "  {'video_id': 'BfNoNTjcRbE',\n",
              "   'link': 'https://www.youtube.com/watch?v=BfNoNTjcRbE',\n",
              "   'serpapi_link': 'https://serpapi.com/search.json?engine=youtube_video&v=BfNoNTjcRbE',\n",
              "   'thumbnail': 'https://i.ytimg.com/vi/BfNoNTjcRbE/hqdefault.jpg?sqp=-oaymwEnCNACELwBSFryq4qpAxkIARUAAIhCGAHYAQHiAQoIGBACGAY4AUAB&rs=AOn4CLAICb4Yz44IrfNA4uJ6qLWCObfOHA',\n",
              "   'title': 'How We All Got Obsessed With A $6 Dripper',\n",
              "   'published_date': '3 months ago',\n",
              "   'views': '910K views',\n",
              "   'extracted_views': 910000,\n",
              "   'length': '21:32',\n",
              "   'channel': {'name': 'James Hoffmann',\n",
              "    'link': 'https://www.youtube.com/@jameshoffmann'}},\n",
              "  {'video_id': 'N6BJVM5tvnw',\n",
              "   'link': 'https://www.youtube.com/watch?v=N6BJVM5tvnw',\n",
              "   'serpapi_link': 'https://serpapi.com/search.json?engine=youtube_video&v=N6BJVM5tvnw',\n",
              "   'thumbnail': 'https://i.ytimg.com/vi/N6BJVM5tvnw/hqdefault.jpg?sqp=-oaymwEnCNACELwBSFryq4qpAxkIARUAAIhCGAHYAQHiAQoIGBACGAY4AUAB&rs=AOn4CLAyX0ftuW7nIIzdZFzer2AA6L0Kxg',\n",
              "   'title': 'Coffee Roasting Explained',\n",
              "   'published_date': '2 years ago',\n",
              "   'views': '1.7M views',\n",
              "   'extracted_views': 1700000,\n",
              "   'length': '18:38',\n",
              "   'channel': {'name': 'James Hoffmann',\n",
              "    'link': 'https://www.youtube.com/@jameshoffmann'}},\n",
              "  {'video_id': 'gR_f-iwUGY4',\n",
              "   'link': 'https://www.youtube.com/watch?v=gR_f-iwUGY4',\n",
              "   'serpapi_link': 'https://serpapi.com/search.json?engine=youtube_video&v=gR_f-iwUGY4',\n",
              "   'thumbnail': 'https://i.ytimg.com/vi/gR_f-iwUGY4/hqdefault.jpg?sqp=-oaymwEnCNACELwBSFryq4qpAxkIARUAAIhCGAHYAQHiAQoIGBACGAY4AUAB&rs=AOn4CLAw7eAYNIS-aMGobe5oug2CUP7tSA',\n",
              "   'title': 'The Optimal Morning Routine - Andrew Huberman',\n",
              "   'published_date': '2 years ago',\n",
              "   'views': '7.9M views',\n",
              "   'extracted_views': 7900000,\n",
              "   'length': '16:29',\n",
              "   'channel': {'name': 'After Skool',\n",
              "    'link': 'https://www.youtube.com/@AfterSkool'}},\n",
              "  {'video_id': 'hporCspYd0c',\n",
              "   'link': 'https://www.youtube.com/watch?v=hporCspYd0c',\n",
              "   'serpapi_link': 'https://serpapi.com/search.json?engine=youtube_video&v=hporCspYd0c',\n",
              "   'thumbnail': 'https://i.ytimg.com/vi/hporCspYd0c/hqdefault.jpg?sqp=-oaymwEnCNACELwBSFryq4qpAxkIARUAAIhCGAHYAQHiAQoIGBACGAY4AUAB&rs=AOn4CLC9L4rABzbbpRQUuMbXoYJF0Eg_RA',\n",
              "   'title': 'How Instant Coffee Is Made In Factory',\n",
              "   'published_date': '8 months ago',\n",
              "   'views': '4.4M views',\n",
              "   'extracted_views': 4400000,\n",
              "   'length': '13:57',\n",
              "   'channel': {'name': 'Made Vision',\n",
              "    'link': 'https://www.youtube.com/@MadeVision-TV'}},\n",
              "  {'video_id': 'pjJqOgFyCxI',\n",
              "   'link': 'https://www.youtube.com/watch?v=pjJqOgFyCxI',\n",
              "   'serpapi_link': 'https://serpapi.com/search.json?engine=youtube_video&v=pjJqOgFyCxI',\n",
              "   'thumbnail': 'https://i.ytimg.com/vi/pjJqOgFyCxI/hqdefault.jpg?sqp=-oaymwEnCNACELwBSFryq4qpAxkIARUAAIhCGAHYAQHiAQoIGBACGAY4AUAB&rs=AOn4CLBQ9ERIY7STbQZPWwmnL31TUnR6lA',\n",
              "   'title': 'James Hoffmann Answers Coffee Questions From Twitter | Tech Support | WIRED',\n",
              "   'published_date': '2 years ago',\n",
              "   'views': '4.2M views',\n",
              "   'extracted_views': 4200000,\n",
              "   'length': '22:14',\n",
              "   'channel': {'name': 'WIRED', 'link': 'https://www.youtube.com/@WIRED'}},\n",
              "  {'video_id': 'rLaVDQy0q8Y',\n",
              "   'link': 'https://www.youtube.com/watch?v=rLaVDQy0q8Y',\n",
              "   'serpapi_link': 'https://serpapi.com/search.json?engine=youtube_video&v=rLaVDQy0q8Y',\n",
              "   'thumbnail': 'https://i.ytimg.com/vi/rLaVDQy0q8Y/hqdefault.jpg?sqp=-oaymwEnCNACELwBSFryq4qpAxkIARUAAIhCGAHYAQHiAQoIGBACGAY4AUAB&rs=AOn4CLARv8tD3cTjOi-04qs4Ov-t-jBbvQ',\n",
              "   'title': 'Coffee Menu Explained - What the most common coffees are and how to make them',\n",
              "   'published_date': '4 years ago',\n",
              "   'views': '2.1M views',\n",
              "   'extracted_views': 2100000,\n",
              "   'length': '16:49',\n",
              "   'channel': {'name': 'Artisti Coffee Roasters.',\n",
              "    'link': 'https://www.youtube.com/@ArtistiCoffeeRoasters'}}],\n",
              " 'comments_next_page_token': 'Eg0SC3ZGY1MwODBWWVEwGAYyJSIRIgt2RmNTMDgwVllRMDAAeAJCEGNvbW1lbnRzLXNlY3Rpb24%3D',\n",
              " 'comments_sorting_token': [{'title': 'Top comments',\n",
              "   'token': 'Eg0SC3ZGY1MwODBWWVEwGAYyVSIuIgt2RmNTMDgwVllRMDAAeAKqAhpVZ3pxTGI3eko2SnJWMHVibDZKNEFhQUJBZzABQiFlbmdhZ2VtZW50LXBhbmVsLWNvbW1lbnRzLXNlY3Rpb24%3D'},\n",
              "  {'title': 'Newest first',\n",
              "   'token': 'Eg0SC3ZGY1MwODBWWVEwGAYyOCIRIgt2RmNTMDgwVllRMDABeAIwAUIhZW5nYWdlbWVudC1wYW5lbC1jb21tZW50cy1zZWN0aW9u'}]}"
            ]
          },
          "metadata": {},
          "execution_count": 29
        }
      ]
    },
    {
      "cell_type": "code",
      "source": [
        "import seaborn as sns"
      ],
      "metadata": {
        "id": "Ibz_WN_ThK1R"
      },
      "execution_count": 1,
      "outputs": []
    },
    {
      "cell_type": "code",
      "source": [
        "sns.get_dataset_names()"
      ],
      "metadata": {
        "id": "ssCFi_4714z4",
        "outputId": "9e36a7ff-4cb9-441d-9389-7751d577c448",
        "colab": {
          "base_uri": "https://localhost:8080/"
        }
      },
      "execution_count": 2,
      "outputs": [
        {
          "output_type": "execute_result",
          "data": {
            "text/plain": [
              "['anagrams',\n",
              " 'anscombe',\n",
              " 'attention',\n",
              " 'brain_networks',\n",
              " 'car_crashes',\n",
              " 'diamonds',\n",
              " 'dots',\n",
              " 'dowjones',\n",
              " 'exercise',\n",
              " 'flights',\n",
              " 'fmri',\n",
              " 'geyser',\n",
              " 'glue',\n",
              " 'healthexp',\n",
              " 'iris',\n",
              " 'mpg',\n",
              " 'penguins',\n",
              " 'planets',\n",
              " 'seaice',\n",
              " 'taxis',\n",
              " 'tips',\n",
              " 'titanic']"
            ]
          },
          "metadata": {},
          "execution_count": 2
        }
      ]
    },
    {
      "cell_type": "code",
      "source": [
        "titanic_df=sns.load_dataset('titanic')"
      ],
      "metadata": {
        "id": "vInlMBJLhXEf"
      },
      "execution_count": 9,
      "outputs": []
    },
    {
      "cell_type": "code",
      "source": [
        "titanic_df"
      ],
      "metadata": {
        "id": "g6Svx7pVhm04",
        "outputId": "485d7a01-b70a-4d2d-fecd-9be2ab4daa9d",
        "colab": {
          "base_uri": "https://localhost:8080/",
          "height": 423
        }
      },
      "execution_count": 10,
      "outputs": [
        {
          "output_type": "execute_result",
          "data": {
            "text/plain": [
              "     survived  pclass     sex   age  sibsp  parch     fare embarked   class  \\\n",
              "0           0       3    male  22.0      1      0   7.2500        S   Third   \n",
              "1           1       1  female  38.0      1      0  71.2833        C   First   \n",
              "2           1       3  female  26.0      0      0   7.9250        S   Third   \n",
              "3           1       1  female  35.0      1      0  53.1000        S   First   \n",
              "4           0       3    male  35.0      0      0   8.0500        S   Third   \n",
              "..        ...     ...     ...   ...    ...    ...      ...      ...     ...   \n",
              "886         0       2    male  27.0      0      0  13.0000        S  Second   \n",
              "887         1       1  female  19.0      0      0  30.0000        S   First   \n",
              "888         0       3  female   NaN      1      2  23.4500        S   Third   \n",
              "889         1       1    male  26.0      0      0  30.0000        C   First   \n",
              "890         0       3    male  32.0      0      0   7.7500        Q   Third   \n",
              "\n",
              "       who  adult_male deck  embark_town alive  alone  \n",
              "0      man        True  NaN  Southampton    no  False  \n",
              "1    woman       False    C    Cherbourg   yes  False  \n",
              "2    woman       False  NaN  Southampton   yes   True  \n",
              "3    woman       False    C  Southampton   yes  False  \n",
              "4      man        True  NaN  Southampton    no   True  \n",
              "..     ...         ...  ...          ...   ...    ...  \n",
              "886    man        True  NaN  Southampton    no   True  \n",
              "887  woman       False    B  Southampton   yes   True  \n",
              "888  woman       False  NaN  Southampton    no  False  \n",
              "889    man        True    C    Cherbourg   yes   True  \n",
              "890    man        True  NaN   Queenstown    no   True  \n",
              "\n",
              "[891 rows x 15 columns]"
            ],
            "text/html": [
              "\n",
              "  <div id=\"df-70f6724e-94fe-4f54-a7ea-32846a3f12bc\" class=\"colab-df-container\">\n",
              "    <div>\n",
              "<style scoped>\n",
              "    .dataframe tbody tr th:only-of-type {\n",
              "        vertical-align: middle;\n",
              "    }\n",
              "\n",
              "    .dataframe tbody tr th {\n",
              "        vertical-align: top;\n",
              "    }\n",
              "\n",
              "    .dataframe thead th {\n",
              "        text-align: right;\n",
              "    }\n",
              "</style>\n",
              "<table border=\"1\" class=\"dataframe\">\n",
              "  <thead>\n",
              "    <tr style=\"text-align: right;\">\n",
              "      <th></th>\n",
              "      <th>survived</th>\n",
              "      <th>pclass</th>\n",
              "      <th>sex</th>\n",
              "      <th>age</th>\n",
              "      <th>sibsp</th>\n",
              "      <th>parch</th>\n",
              "      <th>fare</th>\n",
              "      <th>embarked</th>\n",
              "      <th>class</th>\n",
              "      <th>who</th>\n",
              "      <th>adult_male</th>\n",
              "      <th>deck</th>\n",
              "      <th>embark_town</th>\n",
              "      <th>alive</th>\n",
              "      <th>alone</th>\n",
              "    </tr>\n",
              "  </thead>\n",
              "  <tbody>\n",
              "    <tr>\n",
              "      <th>0</th>\n",
              "      <td>0</td>\n",
              "      <td>3</td>\n",
              "      <td>male</td>\n",
              "      <td>22.0</td>\n",
              "      <td>1</td>\n",
              "      <td>0</td>\n",
              "      <td>7.2500</td>\n",
              "      <td>S</td>\n",
              "      <td>Third</td>\n",
              "      <td>man</td>\n",
              "      <td>True</td>\n",
              "      <td>NaN</td>\n",
              "      <td>Southampton</td>\n",
              "      <td>no</td>\n",
              "      <td>False</td>\n",
              "    </tr>\n",
              "    <tr>\n",
              "      <th>1</th>\n",
              "      <td>1</td>\n",
              "      <td>1</td>\n",
              "      <td>female</td>\n",
              "      <td>38.0</td>\n",
              "      <td>1</td>\n",
              "      <td>0</td>\n",
              "      <td>71.2833</td>\n",
              "      <td>C</td>\n",
              "      <td>First</td>\n",
              "      <td>woman</td>\n",
              "      <td>False</td>\n",
              "      <td>C</td>\n",
              "      <td>Cherbourg</td>\n",
              "      <td>yes</td>\n",
              "      <td>False</td>\n",
              "    </tr>\n",
              "    <tr>\n",
              "      <th>2</th>\n",
              "      <td>1</td>\n",
              "      <td>3</td>\n",
              "      <td>female</td>\n",
              "      <td>26.0</td>\n",
              "      <td>0</td>\n",
              "      <td>0</td>\n",
              "      <td>7.9250</td>\n",
              "      <td>S</td>\n",
              "      <td>Third</td>\n",
              "      <td>woman</td>\n",
              "      <td>False</td>\n",
              "      <td>NaN</td>\n",
              "      <td>Southampton</td>\n",
              "      <td>yes</td>\n",
              "      <td>True</td>\n",
              "    </tr>\n",
              "    <tr>\n",
              "      <th>3</th>\n",
              "      <td>1</td>\n",
              "      <td>1</td>\n",
              "      <td>female</td>\n",
              "      <td>35.0</td>\n",
              "      <td>1</td>\n",
              "      <td>0</td>\n",
              "      <td>53.1000</td>\n",
              "      <td>S</td>\n",
              "      <td>First</td>\n",
              "      <td>woman</td>\n",
              "      <td>False</td>\n",
              "      <td>C</td>\n",
              "      <td>Southampton</td>\n",
              "      <td>yes</td>\n",
              "      <td>False</td>\n",
              "    </tr>\n",
              "    <tr>\n",
              "      <th>4</th>\n",
              "      <td>0</td>\n",
              "      <td>3</td>\n",
              "      <td>male</td>\n",
              "      <td>35.0</td>\n",
              "      <td>0</td>\n",
              "      <td>0</td>\n",
              "      <td>8.0500</td>\n",
              "      <td>S</td>\n",
              "      <td>Third</td>\n",
              "      <td>man</td>\n",
              "      <td>True</td>\n",
              "      <td>NaN</td>\n",
              "      <td>Southampton</td>\n",
              "      <td>no</td>\n",
              "      <td>True</td>\n",
              "    </tr>\n",
              "    <tr>\n",
              "      <th>...</th>\n",
              "      <td>...</td>\n",
              "      <td>...</td>\n",
              "      <td>...</td>\n",
              "      <td>...</td>\n",
              "      <td>...</td>\n",
              "      <td>...</td>\n",
              "      <td>...</td>\n",
              "      <td>...</td>\n",
              "      <td>...</td>\n",
              "      <td>...</td>\n",
              "      <td>...</td>\n",
              "      <td>...</td>\n",
              "      <td>...</td>\n",
              "      <td>...</td>\n",
              "      <td>...</td>\n",
              "    </tr>\n",
              "    <tr>\n",
              "      <th>886</th>\n",
              "      <td>0</td>\n",
              "      <td>2</td>\n",
              "      <td>male</td>\n",
              "      <td>27.0</td>\n",
              "      <td>0</td>\n",
              "      <td>0</td>\n",
              "      <td>13.0000</td>\n",
              "      <td>S</td>\n",
              "      <td>Second</td>\n",
              "      <td>man</td>\n",
              "      <td>True</td>\n",
              "      <td>NaN</td>\n",
              "      <td>Southampton</td>\n",
              "      <td>no</td>\n",
              "      <td>True</td>\n",
              "    </tr>\n",
              "    <tr>\n",
              "      <th>887</th>\n",
              "      <td>1</td>\n",
              "      <td>1</td>\n",
              "      <td>female</td>\n",
              "      <td>19.0</td>\n",
              "      <td>0</td>\n",
              "      <td>0</td>\n",
              "      <td>30.0000</td>\n",
              "      <td>S</td>\n",
              "      <td>First</td>\n",
              "      <td>woman</td>\n",
              "      <td>False</td>\n",
              "      <td>B</td>\n",
              "      <td>Southampton</td>\n",
              "      <td>yes</td>\n",
              "      <td>True</td>\n",
              "    </tr>\n",
              "    <tr>\n",
              "      <th>888</th>\n",
              "      <td>0</td>\n",
              "      <td>3</td>\n",
              "      <td>female</td>\n",
              "      <td>NaN</td>\n",
              "      <td>1</td>\n",
              "      <td>2</td>\n",
              "      <td>23.4500</td>\n",
              "      <td>S</td>\n",
              "      <td>Third</td>\n",
              "      <td>woman</td>\n",
              "      <td>False</td>\n",
              "      <td>NaN</td>\n",
              "      <td>Southampton</td>\n",
              "      <td>no</td>\n",
              "      <td>False</td>\n",
              "    </tr>\n",
              "    <tr>\n",
              "      <th>889</th>\n",
              "      <td>1</td>\n",
              "      <td>1</td>\n",
              "      <td>male</td>\n",
              "      <td>26.0</td>\n",
              "      <td>0</td>\n",
              "      <td>0</td>\n",
              "      <td>30.0000</td>\n",
              "      <td>C</td>\n",
              "      <td>First</td>\n",
              "      <td>man</td>\n",
              "      <td>True</td>\n",
              "      <td>C</td>\n",
              "      <td>Cherbourg</td>\n",
              "      <td>yes</td>\n",
              "      <td>True</td>\n",
              "    </tr>\n",
              "    <tr>\n",
              "      <th>890</th>\n",
              "      <td>0</td>\n",
              "      <td>3</td>\n",
              "      <td>male</td>\n",
              "      <td>32.0</td>\n",
              "      <td>0</td>\n",
              "      <td>0</td>\n",
              "      <td>7.7500</td>\n",
              "      <td>Q</td>\n",
              "      <td>Third</td>\n",
              "      <td>man</td>\n",
              "      <td>True</td>\n",
              "      <td>NaN</td>\n",
              "      <td>Queenstown</td>\n",
              "      <td>no</td>\n",
              "      <td>True</td>\n",
              "    </tr>\n",
              "  </tbody>\n",
              "</table>\n",
              "<p>891 rows × 15 columns</p>\n",
              "</div>\n",
              "    <div class=\"colab-df-buttons\">\n",
              "\n",
              "  <div class=\"colab-df-container\">\n",
              "    <button class=\"colab-df-convert\" onclick=\"convertToInteractive('df-70f6724e-94fe-4f54-a7ea-32846a3f12bc')\"\n",
              "            title=\"Convert this dataframe to an interactive table.\"\n",
              "            style=\"display:none;\">\n",
              "\n",
              "  <svg xmlns=\"http://www.w3.org/2000/svg\" height=\"24px\" viewBox=\"0 -960 960 960\">\n",
              "    <path d=\"M120-120v-720h720v720H120Zm60-500h600v-160H180v160Zm220 220h160v-160H400v160Zm0 220h160v-160H400v160ZM180-400h160v-160H180v160Zm440 0h160v-160H620v160ZM180-180h160v-160H180v160Zm440 0h160v-160H620v160Z\"/>\n",
              "  </svg>\n",
              "    </button>\n",
              "\n",
              "  <style>\n",
              "    .colab-df-container {\n",
              "      display:flex;\n",
              "      gap: 12px;\n",
              "    }\n",
              "\n",
              "    .colab-df-convert {\n",
              "      background-color: #E8F0FE;\n",
              "      border: none;\n",
              "      border-radius: 50%;\n",
              "      cursor: pointer;\n",
              "      display: none;\n",
              "      fill: #1967D2;\n",
              "      height: 32px;\n",
              "      padding: 0 0 0 0;\n",
              "      width: 32px;\n",
              "    }\n",
              "\n",
              "    .colab-df-convert:hover {\n",
              "      background-color: #E2EBFA;\n",
              "      box-shadow: 0px 1px 2px rgba(60, 64, 67, 0.3), 0px 1px 3px 1px rgba(60, 64, 67, 0.15);\n",
              "      fill: #174EA6;\n",
              "    }\n",
              "\n",
              "    .colab-df-buttons div {\n",
              "      margin-bottom: 4px;\n",
              "    }\n",
              "\n",
              "    [theme=dark] .colab-df-convert {\n",
              "      background-color: #3B4455;\n",
              "      fill: #D2E3FC;\n",
              "    }\n",
              "\n",
              "    [theme=dark] .colab-df-convert:hover {\n",
              "      background-color: #434B5C;\n",
              "      box-shadow: 0px 1px 3px 1px rgba(0, 0, 0, 0.15);\n",
              "      filter: drop-shadow(0px 1px 2px rgba(0, 0, 0, 0.3));\n",
              "      fill: #FFFFFF;\n",
              "    }\n",
              "  </style>\n",
              "\n",
              "    <script>\n",
              "      const buttonEl =\n",
              "        document.querySelector('#df-70f6724e-94fe-4f54-a7ea-32846a3f12bc button.colab-df-convert');\n",
              "      buttonEl.style.display =\n",
              "        google.colab.kernel.accessAllowed ? 'block' : 'none';\n",
              "\n",
              "      async function convertToInteractive(key) {\n",
              "        const element = document.querySelector('#df-70f6724e-94fe-4f54-a7ea-32846a3f12bc');\n",
              "        const dataTable =\n",
              "          await google.colab.kernel.invokeFunction('convertToInteractive',\n",
              "                                                    [key], {});\n",
              "        if (!dataTable) return;\n",
              "\n",
              "        const docLinkHtml = 'Like what you see? Visit the ' +\n",
              "          '<a target=\"_blank\" href=https://colab.research.google.com/notebooks/data_table.ipynb>data table notebook</a>'\n",
              "          + ' to learn more about interactive tables.';\n",
              "        element.innerHTML = '';\n",
              "        dataTable['output_type'] = 'display_data';\n",
              "        await google.colab.output.renderOutput(dataTable, element);\n",
              "        const docLink = document.createElement('div');\n",
              "        docLink.innerHTML = docLinkHtml;\n",
              "        element.appendChild(docLink);\n",
              "      }\n",
              "    </script>\n",
              "  </div>\n",
              "\n",
              "\n",
              "    <div id=\"df-884ab725-f576-4c75-acaa-a40b1fba8047\">\n",
              "      <button class=\"colab-df-quickchart\" onclick=\"quickchart('df-884ab725-f576-4c75-acaa-a40b1fba8047')\"\n",
              "                title=\"Suggest charts\"\n",
              "                style=\"display:none;\">\n",
              "\n",
              "<svg xmlns=\"http://www.w3.org/2000/svg\" height=\"24px\"viewBox=\"0 0 24 24\"\n",
              "     width=\"24px\">\n",
              "    <g>\n",
              "        <path d=\"M19 3H5c-1.1 0-2 .9-2 2v14c0 1.1.9 2 2 2h14c1.1 0 2-.9 2-2V5c0-1.1-.9-2-2-2zM9 17H7v-7h2v7zm4 0h-2V7h2v10zm4 0h-2v-4h2v4z\"/>\n",
              "    </g>\n",
              "</svg>\n",
              "      </button>\n",
              "\n",
              "<style>\n",
              "  .colab-df-quickchart {\n",
              "      --bg-color: #E8F0FE;\n",
              "      --fill-color: #1967D2;\n",
              "      --hover-bg-color: #E2EBFA;\n",
              "      --hover-fill-color: #174EA6;\n",
              "      --disabled-fill-color: #AAA;\n",
              "      --disabled-bg-color: #DDD;\n",
              "  }\n",
              "\n",
              "  [theme=dark] .colab-df-quickchart {\n",
              "      --bg-color: #3B4455;\n",
              "      --fill-color: #D2E3FC;\n",
              "      --hover-bg-color: #434B5C;\n",
              "      --hover-fill-color: #FFFFFF;\n",
              "      --disabled-bg-color: #3B4455;\n",
              "      --disabled-fill-color: #666;\n",
              "  }\n",
              "\n",
              "  .colab-df-quickchart {\n",
              "    background-color: var(--bg-color);\n",
              "    border: none;\n",
              "    border-radius: 50%;\n",
              "    cursor: pointer;\n",
              "    display: none;\n",
              "    fill: var(--fill-color);\n",
              "    height: 32px;\n",
              "    padding: 0;\n",
              "    width: 32px;\n",
              "  }\n",
              "\n",
              "  .colab-df-quickchart:hover {\n",
              "    background-color: var(--hover-bg-color);\n",
              "    box-shadow: 0 1px 2px rgba(60, 64, 67, 0.3), 0 1px 3px 1px rgba(60, 64, 67, 0.15);\n",
              "    fill: var(--button-hover-fill-color);\n",
              "  }\n",
              "\n",
              "  .colab-df-quickchart-complete:disabled,\n",
              "  .colab-df-quickchart-complete:disabled:hover {\n",
              "    background-color: var(--disabled-bg-color);\n",
              "    fill: var(--disabled-fill-color);\n",
              "    box-shadow: none;\n",
              "  }\n",
              "\n",
              "  .colab-df-spinner {\n",
              "    border: 2px solid var(--fill-color);\n",
              "    border-color: transparent;\n",
              "    border-bottom-color: var(--fill-color);\n",
              "    animation:\n",
              "      spin 1s steps(1) infinite;\n",
              "  }\n",
              "\n",
              "  @keyframes spin {\n",
              "    0% {\n",
              "      border-color: transparent;\n",
              "      border-bottom-color: var(--fill-color);\n",
              "      border-left-color: var(--fill-color);\n",
              "    }\n",
              "    20% {\n",
              "      border-color: transparent;\n",
              "      border-left-color: var(--fill-color);\n",
              "      border-top-color: var(--fill-color);\n",
              "    }\n",
              "    30% {\n",
              "      border-color: transparent;\n",
              "      border-left-color: var(--fill-color);\n",
              "      border-top-color: var(--fill-color);\n",
              "      border-right-color: var(--fill-color);\n",
              "    }\n",
              "    40% {\n",
              "      border-color: transparent;\n",
              "      border-right-color: var(--fill-color);\n",
              "      border-top-color: var(--fill-color);\n",
              "    }\n",
              "    60% {\n",
              "      border-color: transparent;\n",
              "      border-right-color: var(--fill-color);\n",
              "    }\n",
              "    80% {\n",
              "      border-color: transparent;\n",
              "      border-right-color: var(--fill-color);\n",
              "      border-bottom-color: var(--fill-color);\n",
              "    }\n",
              "    90% {\n",
              "      border-color: transparent;\n",
              "      border-bottom-color: var(--fill-color);\n",
              "    }\n",
              "  }\n",
              "</style>\n",
              "\n",
              "      <script>\n",
              "        async function quickchart(key) {\n",
              "          const quickchartButtonEl =\n",
              "            document.querySelector('#' + key + ' button');\n",
              "          quickchartButtonEl.disabled = true;  // To prevent multiple clicks.\n",
              "          quickchartButtonEl.classList.add('colab-df-spinner');\n",
              "          try {\n",
              "            const charts = await google.colab.kernel.invokeFunction(\n",
              "                'suggestCharts', [key], {});\n",
              "          } catch (error) {\n",
              "            console.error('Error during call to suggestCharts:', error);\n",
              "          }\n",
              "          quickchartButtonEl.classList.remove('colab-df-spinner');\n",
              "          quickchartButtonEl.classList.add('colab-df-quickchart-complete');\n",
              "        }\n",
              "        (() => {\n",
              "          let quickchartButtonEl =\n",
              "            document.querySelector('#df-884ab725-f576-4c75-acaa-a40b1fba8047 button');\n",
              "          quickchartButtonEl.style.display =\n",
              "            google.colab.kernel.accessAllowed ? 'block' : 'none';\n",
              "        })();\n",
              "      </script>\n",
              "    </div>\n",
              "\n",
              "  <div id=\"id_fcae988b-f2af-40e6-8a4b-686512e08c4c\">\n",
              "    <style>\n",
              "      .colab-df-generate {\n",
              "        background-color: #E8F0FE;\n",
              "        border: none;\n",
              "        border-radius: 50%;\n",
              "        cursor: pointer;\n",
              "        display: none;\n",
              "        fill: #1967D2;\n",
              "        height: 32px;\n",
              "        padding: 0 0 0 0;\n",
              "        width: 32px;\n",
              "      }\n",
              "\n",
              "      .colab-df-generate:hover {\n",
              "        background-color: #E2EBFA;\n",
              "        box-shadow: 0px 1px 2px rgba(60, 64, 67, 0.3), 0px 1px 3px 1px rgba(60, 64, 67, 0.15);\n",
              "        fill: #174EA6;\n",
              "      }\n",
              "\n",
              "      [theme=dark] .colab-df-generate {\n",
              "        background-color: #3B4455;\n",
              "        fill: #D2E3FC;\n",
              "      }\n",
              "\n",
              "      [theme=dark] .colab-df-generate:hover {\n",
              "        background-color: #434B5C;\n",
              "        box-shadow: 0px 1px 3px 1px rgba(0, 0, 0, 0.15);\n",
              "        filter: drop-shadow(0px 1px 2px rgba(0, 0, 0, 0.3));\n",
              "        fill: #FFFFFF;\n",
              "      }\n",
              "    </style>\n",
              "    <button class=\"colab-df-generate\" onclick=\"generateWithVariable('titanic_df')\"\n",
              "            title=\"Generate code using this dataframe.\"\n",
              "            style=\"display:none;\">\n",
              "\n",
              "  <svg xmlns=\"http://www.w3.org/2000/svg\" height=\"24px\"viewBox=\"0 0 24 24\"\n",
              "       width=\"24px\">\n",
              "    <path d=\"M7,19H8.4L18.45,9,17,7.55,7,17.6ZM5,21V16.75L18.45,3.32a2,2,0,0,1,2.83,0l1.4,1.43a1.91,1.91,0,0,1,.58,1.4,1.91,1.91,0,0,1-.58,1.4L9.25,21ZM18.45,9,17,7.55Zm-12,3A5.31,5.31,0,0,0,4.9,8.1,5.31,5.31,0,0,0,1,6.5,5.31,5.31,0,0,0,4.9,4.9,5.31,5.31,0,0,0,6.5,1,5.31,5.31,0,0,0,8.1,4.9,5.31,5.31,0,0,0,12,6.5,5.46,5.46,0,0,0,6.5,12Z\"/>\n",
              "  </svg>\n",
              "    </button>\n",
              "    <script>\n",
              "      (() => {\n",
              "      const buttonEl =\n",
              "        document.querySelector('#id_fcae988b-f2af-40e6-8a4b-686512e08c4c button.colab-df-generate');\n",
              "      buttonEl.style.display =\n",
              "        google.colab.kernel.accessAllowed ? 'block' : 'none';\n",
              "\n",
              "      buttonEl.onclick = () => {\n",
              "        google.colab.notebook.generateWithVariable('titanic_df');\n",
              "      }\n",
              "      })();\n",
              "    </script>\n",
              "  </div>\n",
              "\n",
              "    </div>\n",
              "  </div>\n"
            ],
            "application/vnd.google.colaboratory.intrinsic+json": {
              "type": "dataframe",
              "variable_name": "titanic_df",
              "summary": "{\n  \"name\": \"titanic_df\",\n  \"rows\": 891,\n  \"fields\": [\n    {\n      \"column\": \"survived\",\n      \"properties\": {\n        \"dtype\": \"number\",\n        \"std\": 0,\n        \"min\": 0,\n        \"max\": 1,\n        \"num_unique_values\": 2,\n        \"samples\": [\n          1,\n          0\n        ],\n        \"semantic_type\": \"\",\n        \"description\": \"\"\n      }\n    },\n    {\n      \"column\": \"pclass\",\n      \"properties\": {\n        \"dtype\": \"number\",\n        \"std\": 0,\n        \"min\": 1,\n        \"max\": 3,\n        \"num_unique_values\": 3,\n        \"samples\": [\n          3,\n          1\n        ],\n        \"semantic_type\": \"\",\n        \"description\": \"\"\n      }\n    },\n    {\n      \"column\": \"sex\",\n      \"properties\": {\n        \"dtype\": \"category\",\n        \"num_unique_values\": 2,\n        \"samples\": [\n          \"female\",\n          \"male\"\n        ],\n        \"semantic_type\": \"\",\n        \"description\": \"\"\n      }\n    },\n    {\n      \"column\": \"age\",\n      \"properties\": {\n        \"dtype\": \"number\",\n        \"std\": 14.526497332334044,\n        \"min\": 0.42,\n        \"max\": 80.0,\n        \"num_unique_values\": 88,\n        \"samples\": [\n          0.75,\n          22.0\n        ],\n        \"semantic_type\": \"\",\n        \"description\": \"\"\n      }\n    },\n    {\n      \"column\": \"sibsp\",\n      \"properties\": {\n        \"dtype\": \"number\",\n        \"std\": 1,\n        \"min\": 0,\n        \"max\": 8,\n        \"num_unique_values\": 7,\n        \"samples\": [\n          1,\n          0\n        ],\n        \"semantic_type\": \"\",\n        \"description\": \"\"\n      }\n    },\n    {\n      \"column\": \"parch\",\n      \"properties\": {\n        \"dtype\": \"number\",\n        \"std\": 0,\n        \"min\": 0,\n        \"max\": 6,\n        \"num_unique_values\": 7,\n        \"samples\": [\n          0,\n          1\n        ],\n        \"semantic_type\": \"\",\n        \"description\": \"\"\n      }\n    },\n    {\n      \"column\": \"fare\",\n      \"properties\": {\n        \"dtype\": \"number\",\n        \"std\": 49.693428597180905,\n        \"min\": 0.0,\n        \"max\": 512.3292,\n        \"num_unique_values\": 248,\n        \"samples\": [\n          11.2417,\n          51.8625\n        ],\n        \"semantic_type\": \"\",\n        \"description\": \"\"\n      }\n    },\n    {\n      \"column\": \"embarked\",\n      \"properties\": {\n        \"dtype\": \"category\",\n        \"num_unique_values\": 3,\n        \"samples\": [\n          \"S\",\n          \"C\"\n        ],\n        \"semantic_type\": \"\",\n        \"description\": \"\"\n      }\n    },\n    {\n      \"column\": \"class\",\n      \"properties\": {\n        \"dtype\": \"category\",\n        \"num_unique_values\": 3,\n        \"samples\": [\n          \"Third\",\n          \"First\"\n        ],\n        \"semantic_type\": \"\",\n        \"description\": \"\"\n      }\n    },\n    {\n      \"column\": \"who\",\n      \"properties\": {\n        \"dtype\": \"category\",\n        \"num_unique_values\": 3,\n        \"samples\": [\n          \"man\",\n          \"woman\"\n        ],\n        \"semantic_type\": \"\",\n        \"description\": \"\"\n      }\n    },\n    {\n      \"column\": \"adult_male\",\n      \"properties\": {\n        \"dtype\": \"boolean\",\n        \"num_unique_values\": 2,\n        \"samples\": [\n          false,\n          true\n        ],\n        \"semantic_type\": \"\",\n        \"description\": \"\"\n      }\n    },\n    {\n      \"column\": \"deck\",\n      \"properties\": {\n        \"dtype\": \"category\",\n        \"num_unique_values\": 7,\n        \"samples\": [\n          \"C\",\n          \"E\"\n        ],\n        \"semantic_type\": \"\",\n        \"description\": \"\"\n      }\n    },\n    {\n      \"column\": \"embark_town\",\n      \"properties\": {\n        \"dtype\": \"category\",\n        \"num_unique_values\": 3,\n        \"samples\": [\n          \"Southampton\",\n          \"Cherbourg\"\n        ],\n        \"semantic_type\": \"\",\n        \"description\": \"\"\n      }\n    },\n    {\n      \"column\": \"alive\",\n      \"properties\": {\n        \"dtype\": \"category\",\n        \"num_unique_values\": 2,\n        \"samples\": [\n          \"yes\",\n          \"no\"\n        ],\n        \"semantic_type\": \"\",\n        \"description\": \"\"\n      }\n    },\n    {\n      \"column\": \"alone\",\n      \"properties\": {\n        \"dtype\": \"boolean\",\n        \"num_unique_values\": 2,\n        \"samples\": [\n          true,\n          false\n        ],\n        \"semantic_type\": \"\",\n        \"description\": \"\"\n      }\n    }\n  ]\n}"
            }
          },
          "metadata": {},
          "execution_count": 10
        }
      ]
    },
    {
      "cell_type": "code",
      "source": [
        "titanic_df['class'].value_counts(normalize=True)*100"
      ],
      "metadata": {
        "id": "7oCZFFOChoM8",
        "outputId": "4715c43a-e0ed-4560-844e-c24f0863f54b",
        "colab": {
          "base_uri": "https://localhost:8080/",
          "height": 209
        }
      },
      "execution_count": 11,
      "outputs": [
        {
          "output_type": "execute_result",
          "data": {
            "text/plain": [
              "class\n",
              "Third     55.106622\n",
              "First     24.242424\n",
              "Second    20.650954\n",
              "Name: proportion, dtype: float64"
            ],
            "text/html": [
              "<div>\n",
              "<style scoped>\n",
              "    .dataframe tbody tr th:only-of-type {\n",
              "        vertical-align: middle;\n",
              "    }\n",
              "\n",
              "    .dataframe tbody tr th {\n",
              "        vertical-align: top;\n",
              "    }\n",
              "\n",
              "    .dataframe thead th {\n",
              "        text-align: right;\n",
              "    }\n",
              "</style>\n",
              "<table border=\"1\" class=\"dataframe\">\n",
              "  <thead>\n",
              "    <tr style=\"text-align: right;\">\n",
              "      <th></th>\n",
              "      <th>proportion</th>\n",
              "    </tr>\n",
              "    <tr>\n",
              "      <th>class</th>\n",
              "      <th></th>\n",
              "    </tr>\n",
              "  </thead>\n",
              "  <tbody>\n",
              "    <tr>\n",
              "      <th>Third</th>\n",
              "      <td>55.106622</td>\n",
              "    </tr>\n",
              "    <tr>\n",
              "      <th>First</th>\n",
              "      <td>24.242424</td>\n",
              "    </tr>\n",
              "    <tr>\n",
              "      <th>Second</th>\n",
              "      <td>20.650954</td>\n",
              "    </tr>\n",
              "  </tbody>\n",
              "</table>\n",
              "</div><br><label><b>dtype:</b> float64</label>"
            ]
          },
          "metadata": {},
          "execution_count": 11
        }
      ]
    },
    {
      "cell_type": "code",
      "source": [
        "pd.crosstab(titanic_df['class'],titanic_df['alive'])"
      ],
      "metadata": {
        "id": "TYayGhfhjrTl",
        "outputId": "891e44d2-6504-4664-e277-96312b3504e8",
        "colab": {
          "base_uri": "https://localhost:8080/",
          "height": 174
        }
      },
      "execution_count": 13,
      "outputs": [
        {
          "output_type": "execute_result",
          "data": {
            "text/plain": [
              "alive    no  yes\n",
              "class           \n",
              "First    80  136\n",
              "Second   97   87\n",
              "Third   372  119"
            ],
            "text/html": [
              "\n",
              "  <div id=\"df-4a22ed54-eb92-48e8-b4a8-4dc44253eced\" class=\"colab-df-container\">\n",
              "    <div>\n",
              "<style scoped>\n",
              "    .dataframe tbody tr th:only-of-type {\n",
              "        vertical-align: middle;\n",
              "    }\n",
              "\n",
              "    .dataframe tbody tr th {\n",
              "        vertical-align: top;\n",
              "    }\n",
              "\n",
              "    .dataframe thead th {\n",
              "        text-align: right;\n",
              "    }\n",
              "</style>\n",
              "<table border=\"1\" class=\"dataframe\">\n",
              "  <thead>\n",
              "    <tr style=\"text-align: right;\">\n",
              "      <th>alive</th>\n",
              "      <th>no</th>\n",
              "      <th>yes</th>\n",
              "    </tr>\n",
              "    <tr>\n",
              "      <th>class</th>\n",
              "      <th></th>\n",
              "      <th></th>\n",
              "    </tr>\n",
              "  </thead>\n",
              "  <tbody>\n",
              "    <tr>\n",
              "      <th>First</th>\n",
              "      <td>80</td>\n",
              "      <td>136</td>\n",
              "    </tr>\n",
              "    <tr>\n",
              "      <th>Second</th>\n",
              "      <td>97</td>\n",
              "      <td>87</td>\n",
              "    </tr>\n",
              "    <tr>\n",
              "      <th>Third</th>\n",
              "      <td>372</td>\n",
              "      <td>119</td>\n",
              "    </tr>\n",
              "  </tbody>\n",
              "</table>\n",
              "</div>\n",
              "    <div class=\"colab-df-buttons\">\n",
              "\n",
              "  <div class=\"colab-df-container\">\n",
              "    <button class=\"colab-df-convert\" onclick=\"convertToInteractive('df-4a22ed54-eb92-48e8-b4a8-4dc44253eced')\"\n",
              "            title=\"Convert this dataframe to an interactive table.\"\n",
              "            style=\"display:none;\">\n",
              "\n",
              "  <svg xmlns=\"http://www.w3.org/2000/svg\" height=\"24px\" viewBox=\"0 -960 960 960\">\n",
              "    <path d=\"M120-120v-720h720v720H120Zm60-500h600v-160H180v160Zm220 220h160v-160H400v160Zm0 220h160v-160H400v160ZM180-400h160v-160H180v160Zm440 0h160v-160H620v160ZM180-180h160v-160H180v160Zm440 0h160v-160H620v160Z\"/>\n",
              "  </svg>\n",
              "    </button>\n",
              "\n",
              "  <style>\n",
              "    .colab-df-container {\n",
              "      display:flex;\n",
              "      gap: 12px;\n",
              "    }\n",
              "\n",
              "    .colab-df-convert {\n",
              "      background-color: #E8F0FE;\n",
              "      border: none;\n",
              "      border-radius: 50%;\n",
              "      cursor: pointer;\n",
              "      display: none;\n",
              "      fill: #1967D2;\n",
              "      height: 32px;\n",
              "      padding: 0 0 0 0;\n",
              "      width: 32px;\n",
              "    }\n",
              "\n",
              "    .colab-df-convert:hover {\n",
              "      background-color: #E2EBFA;\n",
              "      box-shadow: 0px 1px 2px rgba(60, 64, 67, 0.3), 0px 1px 3px 1px rgba(60, 64, 67, 0.15);\n",
              "      fill: #174EA6;\n",
              "    }\n",
              "\n",
              "    .colab-df-buttons div {\n",
              "      margin-bottom: 4px;\n",
              "    }\n",
              "\n",
              "    [theme=dark] .colab-df-convert {\n",
              "      background-color: #3B4455;\n",
              "      fill: #D2E3FC;\n",
              "    }\n",
              "\n",
              "    [theme=dark] .colab-df-convert:hover {\n",
              "      background-color: #434B5C;\n",
              "      box-shadow: 0px 1px 3px 1px rgba(0, 0, 0, 0.15);\n",
              "      filter: drop-shadow(0px 1px 2px rgba(0, 0, 0, 0.3));\n",
              "      fill: #FFFFFF;\n",
              "    }\n",
              "  </style>\n",
              "\n",
              "    <script>\n",
              "      const buttonEl =\n",
              "        document.querySelector('#df-4a22ed54-eb92-48e8-b4a8-4dc44253eced button.colab-df-convert');\n",
              "      buttonEl.style.display =\n",
              "        google.colab.kernel.accessAllowed ? 'block' : 'none';\n",
              "\n",
              "      async function convertToInteractive(key) {\n",
              "        const element = document.querySelector('#df-4a22ed54-eb92-48e8-b4a8-4dc44253eced');\n",
              "        const dataTable =\n",
              "          await google.colab.kernel.invokeFunction('convertToInteractive',\n",
              "                                                    [key], {});\n",
              "        if (!dataTable) return;\n",
              "\n",
              "        const docLinkHtml = 'Like what you see? Visit the ' +\n",
              "          '<a target=\"_blank\" href=https://colab.research.google.com/notebooks/data_table.ipynb>data table notebook</a>'\n",
              "          + ' to learn more about interactive tables.';\n",
              "        element.innerHTML = '';\n",
              "        dataTable['output_type'] = 'display_data';\n",
              "        await google.colab.output.renderOutput(dataTable, element);\n",
              "        const docLink = document.createElement('div');\n",
              "        docLink.innerHTML = docLinkHtml;\n",
              "        element.appendChild(docLink);\n",
              "      }\n",
              "    </script>\n",
              "  </div>\n",
              "\n",
              "\n",
              "    <div id=\"df-2d4928ac-2f6b-4127-a5f2-da3194fc9379\">\n",
              "      <button class=\"colab-df-quickchart\" onclick=\"quickchart('df-2d4928ac-2f6b-4127-a5f2-da3194fc9379')\"\n",
              "                title=\"Suggest charts\"\n",
              "                style=\"display:none;\">\n",
              "\n",
              "<svg xmlns=\"http://www.w3.org/2000/svg\" height=\"24px\"viewBox=\"0 0 24 24\"\n",
              "     width=\"24px\">\n",
              "    <g>\n",
              "        <path d=\"M19 3H5c-1.1 0-2 .9-2 2v14c0 1.1.9 2 2 2h14c1.1 0 2-.9 2-2V5c0-1.1-.9-2-2-2zM9 17H7v-7h2v7zm4 0h-2V7h2v10zm4 0h-2v-4h2v4z\"/>\n",
              "    </g>\n",
              "</svg>\n",
              "      </button>\n",
              "\n",
              "<style>\n",
              "  .colab-df-quickchart {\n",
              "      --bg-color: #E8F0FE;\n",
              "      --fill-color: #1967D2;\n",
              "      --hover-bg-color: #E2EBFA;\n",
              "      --hover-fill-color: #174EA6;\n",
              "      --disabled-fill-color: #AAA;\n",
              "      --disabled-bg-color: #DDD;\n",
              "  }\n",
              "\n",
              "  [theme=dark] .colab-df-quickchart {\n",
              "      --bg-color: #3B4455;\n",
              "      --fill-color: #D2E3FC;\n",
              "      --hover-bg-color: #434B5C;\n",
              "      --hover-fill-color: #FFFFFF;\n",
              "      --disabled-bg-color: #3B4455;\n",
              "      --disabled-fill-color: #666;\n",
              "  }\n",
              "\n",
              "  .colab-df-quickchart {\n",
              "    background-color: var(--bg-color);\n",
              "    border: none;\n",
              "    border-radius: 50%;\n",
              "    cursor: pointer;\n",
              "    display: none;\n",
              "    fill: var(--fill-color);\n",
              "    height: 32px;\n",
              "    padding: 0;\n",
              "    width: 32px;\n",
              "  }\n",
              "\n",
              "  .colab-df-quickchart:hover {\n",
              "    background-color: var(--hover-bg-color);\n",
              "    box-shadow: 0 1px 2px rgba(60, 64, 67, 0.3), 0 1px 3px 1px rgba(60, 64, 67, 0.15);\n",
              "    fill: var(--button-hover-fill-color);\n",
              "  }\n",
              "\n",
              "  .colab-df-quickchart-complete:disabled,\n",
              "  .colab-df-quickchart-complete:disabled:hover {\n",
              "    background-color: var(--disabled-bg-color);\n",
              "    fill: var(--disabled-fill-color);\n",
              "    box-shadow: none;\n",
              "  }\n",
              "\n",
              "  .colab-df-spinner {\n",
              "    border: 2px solid var(--fill-color);\n",
              "    border-color: transparent;\n",
              "    border-bottom-color: var(--fill-color);\n",
              "    animation:\n",
              "      spin 1s steps(1) infinite;\n",
              "  }\n",
              "\n",
              "  @keyframes spin {\n",
              "    0% {\n",
              "      border-color: transparent;\n",
              "      border-bottom-color: var(--fill-color);\n",
              "      border-left-color: var(--fill-color);\n",
              "    }\n",
              "    20% {\n",
              "      border-color: transparent;\n",
              "      border-left-color: var(--fill-color);\n",
              "      border-top-color: var(--fill-color);\n",
              "    }\n",
              "    30% {\n",
              "      border-color: transparent;\n",
              "      border-left-color: var(--fill-color);\n",
              "      border-top-color: var(--fill-color);\n",
              "      border-right-color: var(--fill-color);\n",
              "    }\n",
              "    40% {\n",
              "      border-color: transparent;\n",
              "      border-right-color: var(--fill-color);\n",
              "      border-top-color: var(--fill-color);\n",
              "    }\n",
              "    60% {\n",
              "      border-color: transparent;\n",
              "      border-right-color: var(--fill-color);\n",
              "    }\n",
              "    80% {\n",
              "      border-color: transparent;\n",
              "      border-right-color: var(--fill-color);\n",
              "      border-bottom-color: var(--fill-color);\n",
              "    }\n",
              "    90% {\n",
              "      border-color: transparent;\n",
              "      border-bottom-color: var(--fill-color);\n",
              "    }\n",
              "  }\n",
              "</style>\n",
              "\n",
              "      <script>\n",
              "        async function quickchart(key) {\n",
              "          const quickchartButtonEl =\n",
              "            document.querySelector('#' + key + ' button');\n",
              "          quickchartButtonEl.disabled = true;  // To prevent multiple clicks.\n",
              "          quickchartButtonEl.classList.add('colab-df-spinner');\n",
              "          try {\n",
              "            const charts = await google.colab.kernel.invokeFunction(\n",
              "                'suggestCharts', [key], {});\n",
              "          } catch (error) {\n",
              "            console.error('Error during call to suggestCharts:', error);\n",
              "          }\n",
              "          quickchartButtonEl.classList.remove('colab-df-spinner');\n",
              "          quickchartButtonEl.classList.add('colab-df-quickchart-complete');\n",
              "        }\n",
              "        (() => {\n",
              "          let quickchartButtonEl =\n",
              "            document.querySelector('#df-2d4928ac-2f6b-4127-a5f2-da3194fc9379 button');\n",
              "          quickchartButtonEl.style.display =\n",
              "            google.colab.kernel.accessAllowed ? 'block' : 'none';\n",
              "        })();\n",
              "      </script>\n",
              "    </div>\n",
              "\n",
              "    </div>\n",
              "  </div>\n"
            ],
            "application/vnd.google.colaboratory.intrinsic+json": {
              "type": "dataframe",
              "summary": "{\n  \"name\": \"pd\",\n  \"rows\": 3,\n  \"fields\": [\n    {\n      \"column\": \"class\",\n      \"properties\": {\n        \"dtype\": \"category\",\n        \"num_unique_values\": 3,\n        \"samples\": [\n          \"First\",\n          \"Second\",\n          \"Third\"\n        ],\n        \"semantic_type\": \"\",\n        \"description\": \"\"\n      }\n    },\n    {\n      \"column\": \"no\",\n      \"properties\": {\n        \"dtype\": \"number\",\n        \"std\": 163,\n        \"min\": 80,\n        \"max\": 372,\n        \"num_unique_values\": 3,\n        \"samples\": [\n          80,\n          97,\n          372\n        ],\n        \"semantic_type\": \"\",\n        \"description\": \"\"\n      }\n    },\n    {\n      \"column\": \"yes\",\n      \"properties\": {\n        \"dtype\": \"number\",\n        \"std\": 24,\n        \"min\": 87,\n        \"max\": 136,\n        \"num_unique_values\": 3,\n        \"samples\": [\n          136,\n          87,\n          119\n        ],\n        \"semantic_type\": \"\",\n        \"description\": \"\"\n      }\n    }\n  ]\n}"
            }
          },
          "metadata": {},
          "execution_count": 13
        }
      ]
    },
    {
      "cell_type": "code",
      "source": [
        "pd.crosstab(titanic_df['class'],titanic_df['alive'],margins=True)"
      ],
      "metadata": {
        "id": "Pv-79G-Yk6ZI",
        "outputId": "d52a8d6a-45a9-4e3a-f074-1fefe0b04bbc",
        "colab": {
          "base_uri": "https://localhost:8080/",
          "height": 206
        }
      },
      "execution_count": 15,
      "outputs": [
        {
          "output_type": "execute_result",
          "data": {
            "text/plain": [
              "alive    no  yes  All\n",
              "class                \n",
              "First    80  136  216\n",
              "Second   97   87  184\n",
              "Third   372  119  491\n",
              "All     549  342  891"
            ],
            "text/html": [
              "\n",
              "  <div id=\"df-da78ed5e-3b81-467e-8749-9f90207c1114\" class=\"colab-df-container\">\n",
              "    <div>\n",
              "<style scoped>\n",
              "    .dataframe tbody tr th:only-of-type {\n",
              "        vertical-align: middle;\n",
              "    }\n",
              "\n",
              "    .dataframe tbody tr th {\n",
              "        vertical-align: top;\n",
              "    }\n",
              "\n",
              "    .dataframe thead th {\n",
              "        text-align: right;\n",
              "    }\n",
              "</style>\n",
              "<table border=\"1\" class=\"dataframe\">\n",
              "  <thead>\n",
              "    <tr style=\"text-align: right;\">\n",
              "      <th>alive</th>\n",
              "      <th>no</th>\n",
              "      <th>yes</th>\n",
              "      <th>All</th>\n",
              "    </tr>\n",
              "    <tr>\n",
              "      <th>class</th>\n",
              "      <th></th>\n",
              "      <th></th>\n",
              "      <th></th>\n",
              "    </tr>\n",
              "  </thead>\n",
              "  <tbody>\n",
              "    <tr>\n",
              "      <th>First</th>\n",
              "      <td>80</td>\n",
              "      <td>136</td>\n",
              "      <td>216</td>\n",
              "    </tr>\n",
              "    <tr>\n",
              "      <th>Second</th>\n",
              "      <td>97</td>\n",
              "      <td>87</td>\n",
              "      <td>184</td>\n",
              "    </tr>\n",
              "    <tr>\n",
              "      <th>Third</th>\n",
              "      <td>372</td>\n",
              "      <td>119</td>\n",
              "      <td>491</td>\n",
              "    </tr>\n",
              "    <tr>\n",
              "      <th>All</th>\n",
              "      <td>549</td>\n",
              "      <td>342</td>\n",
              "      <td>891</td>\n",
              "    </tr>\n",
              "  </tbody>\n",
              "</table>\n",
              "</div>\n",
              "    <div class=\"colab-df-buttons\">\n",
              "\n",
              "  <div class=\"colab-df-container\">\n",
              "    <button class=\"colab-df-convert\" onclick=\"convertToInteractive('df-da78ed5e-3b81-467e-8749-9f90207c1114')\"\n",
              "            title=\"Convert this dataframe to an interactive table.\"\n",
              "            style=\"display:none;\">\n",
              "\n",
              "  <svg xmlns=\"http://www.w3.org/2000/svg\" height=\"24px\" viewBox=\"0 -960 960 960\">\n",
              "    <path d=\"M120-120v-720h720v720H120Zm60-500h600v-160H180v160Zm220 220h160v-160H400v160Zm0 220h160v-160H400v160ZM180-400h160v-160H180v160Zm440 0h160v-160H620v160ZM180-180h160v-160H180v160Zm440 0h160v-160H620v160Z\"/>\n",
              "  </svg>\n",
              "    </button>\n",
              "\n",
              "  <style>\n",
              "    .colab-df-container {\n",
              "      display:flex;\n",
              "      gap: 12px;\n",
              "    }\n",
              "\n",
              "    .colab-df-convert {\n",
              "      background-color: #E8F0FE;\n",
              "      border: none;\n",
              "      border-radius: 50%;\n",
              "      cursor: pointer;\n",
              "      display: none;\n",
              "      fill: #1967D2;\n",
              "      height: 32px;\n",
              "      padding: 0 0 0 0;\n",
              "      width: 32px;\n",
              "    }\n",
              "\n",
              "    .colab-df-convert:hover {\n",
              "      background-color: #E2EBFA;\n",
              "      box-shadow: 0px 1px 2px rgba(60, 64, 67, 0.3), 0px 1px 3px 1px rgba(60, 64, 67, 0.15);\n",
              "      fill: #174EA6;\n",
              "    }\n",
              "\n",
              "    .colab-df-buttons div {\n",
              "      margin-bottom: 4px;\n",
              "    }\n",
              "\n",
              "    [theme=dark] .colab-df-convert {\n",
              "      background-color: #3B4455;\n",
              "      fill: #D2E3FC;\n",
              "    }\n",
              "\n",
              "    [theme=dark] .colab-df-convert:hover {\n",
              "      background-color: #434B5C;\n",
              "      box-shadow: 0px 1px 3px 1px rgba(0, 0, 0, 0.15);\n",
              "      filter: drop-shadow(0px 1px 2px rgba(0, 0, 0, 0.3));\n",
              "      fill: #FFFFFF;\n",
              "    }\n",
              "  </style>\n",
              "\n",
              "    <script>\n",
              "      const buttonEl =\n",
              "        document.querySelector('#df-da78ed5e-3b81-467e-8749-9f90207c1114 button.colab-df-convert');\n",
              "      buttonEl.style.display =\n",
              "        google.colab.kernel.accessAllowed ? 'block' : 'none';\n",
              "\n",
              "      async function convertToInteractive(key) {\n",
              "        const element = document.querySelector('#df-da78ed5e-3b81-467e-8749-9f90207c1114');\n",
              "        const dataTable =\n",
              "          await google.colab.kernel.invokeFunction('convertToInteractive',\n",
              "                                                    [key], {});\n",
              "        if (!dataTable) return;\n",
              "\n",
              "        const docLinkHtml = 'Like what you see? Visit the ' +\n",
              "          '<a target=\"_blank\" href=https://colab.research.google.com/notebooks/data_table.ipynb>data table notebook</a>'\n",
              "          + ' to learn more about interactive tables.';\n",
              "        element.innerHTML = '';\n",
              "        dataTable['output_type'] = 'display_data';\n",
              "        await google.colab.output.renderOutput(dataTable, element);\n",
              "        const docLink = document.createElement('div');\n",
              "        docLink.innerHTML = docLinkHtml;\n",
              "        element.appendChild(docLink);\n",
              "      }\n",
              "    </script>\n",
              "  </div>\n",
              "\n",
              "\n",
              "    <div id=\"df-7cacdcd4-f346-45e7-92ef-a38cd94baaba\">\n",
              "      <button class=\"colab-df-quickchart\" onclick=\"quickchart('df-7cacdcd4-f346-45e7-92ef-a38cd94baaba')\"\n",
              "                title=\"Suggest charts\"\n",
              "                style=\"display:none;\">\n",
              "\n",
              "<svg xmlns=\"http://www.w3.org/2000/svg\" height=\"24px\"viewBox=\"0 0 24 24\"\n",
              "     width=\"24px\">\n",
              "    <g>\n",
              "        <path d=\"M19 3H5c-1.1 0-2 .9-2 2v14c0 1.1.9 2 2 2h14c1.1 0 2-.9 2-2V5c0-1.1-.9-2-2-2zM9 17H7v-7h2v7zm4 0h-2V7h2v10zm4 0h-2v-4h2v4z\"/>\n",
              "    </g>\n",
              "</svg>\n",
              "      </button>\n",
              "\n",
              "<style>\n",
              "  .colab-df-quickchart {\n",
              "      --bg-color: #E8F0FE;\n",
              "      --fill-color: #1967D2;\n",
              "      --hover-bg-color: #E2EBFA;\n",
              "      --hover-fill-color: #174EA6;\n",
              "      --disabled-fill-color: #AAA;\n",
              "      --disabled-bg-color: #DDD;\n",
              "  }\n",
              "\n",
              "  [theme=dark] .colab-df-quickchart {\n",
              "      --bg-color: #3B4455;\n",
              "      --fill-color: #D2E3FC;\n",
              "      --hover-bg-color: #434B5C;\n",
              "      --hover-fill-color: #FFFFFF;\n",
              "      --disabled-bg-color: #3B4455;\n",
              "      --disabled-fill-color: #666;\n",
              "  }\n",
              "\n",
              "  .colab-df-quickchart {\n",
              "    background-color: var(--bg-color);\n",
              "    border: none;\n",
              "    border-radius: 50%;\n",
              "    cursor: pointer;\n",
              "    display: none;\n",
              "    fill: var(--fill-color);\n",
              "    height: 32px;\n",
              "    padding: 0;\n",
              "    width: 32px;\n",
              "  }\n",
              "\n",
              "  .colab-df-quickchart:hover {\n",
              "    background-color: var(--hover-bg-color);\n",
              "    box-shadow: 0 1px 2px rgba(60, 64, 67, 0.3), 0 1px 3px 1px rgba(60, 64, 67, 0.15);\n",
              "    fill: var(--button-hover-fill-color);\n",
              "  }\n",
              "\n",
              "  .colab-df-quickchart-complete:disabled,\n",
              "  .colab-df-quickchart-complete:disabled:hover {\n",
              "    background-color: var(--disabled-bg-color);\n",
              "    fill: var(--disabled-fill-color);\n",
              "    box-shadow: none;\n",
              "  }\n",
              "\n",
              "  .colab-df-spinner {\n",
              "    border: 2px solid var(--fill-color);\n",
              "    border-color: transparent;\n",
              "    border-bottom-color: var(--fill-color);\n",
              "    animation:\n",
              "      spin 1s steps(1) infinite;\n",
              "  }\n",
              "\n",
              "  @keyframes spin {\n",
              "    0% {\n",
              "      border-color: transparent;\n",
              "      border-bottom-color: var(--fill-color);\n",
              "      border-left-color: var(--fill-color);\n",
              "    }\n",
              "    20% {\n",
              "      border-color: transparent;\n",
              "      border-left-color: var(--fill-color);\n",
              "      border-top-color: var(--fill-color);\n",
              "    }\n",
              "    30% {\n",
              "      border-color: transparent;\n",
              "      border-left-color: var(--fill-color);\n",
              "      border-top-color: var(--fill-color);\n",
              "      border-right-color: var(--fill-color);\n",
              "    }\n",
              "    40% {\n",
              "      border-color: transparent;\n",
              "      border-right-color: var(--fill-color);\n",
              "      border-top-color: var(--fill-color);\n",
              "    }\n",
              "    60% {\n",
              "      border-color: transparent;\n",
              "      border-right-color: var(--fill-color);\n",
              "    }\n",
              "    80% {\n",
              "      border-color: transparent;\n",
              "      border-right-color: var(--fill-color);\n",
              "      border-bottom-color: var(--fill-color);\n",
              "    }\n",
              "    90% {\n",
              "      border-color: transparent;\n",
              "      border-bottom-color: var(--fill-color);\n",
              "    }\n",
              "  }\n",
              "</style>\n",
              "\n",
              "      <script>\n",
              "        async function quickchart(key) {\n",
              "          const quickchartButtonEl =\n",
              "            document.querySelector('#' + key + ' button');\n",
              "          quickchartButtonEl.disabled = true;  // To prevent multiple clicks.\n",
              "          quickchartButtonEl.classList.add('colab-df-spinner');\n",
              "          try {\n",
              "            const charts = await google.colab.kernel.invokeFunction(\n",
              "                'suggestCharts', [key], {});\n",
              "          } catch (error) {\n",
              "            console.error('Error during call to suggestCharts:', error);\n",
              "          }\n",
              "          quickchartButtonEl.classList.remove('colab-df-spinner');\n",
              "          quickchartButtonEl.classList.add('colab-df-quickchart-complete');\n",
              "        }\n",
              "        (() => {\n",
              "          let quickchartButtonEl =\n",
              "            document.querySelector('#df-7cacdcd4-f346-45e7-92ef-a38cd94baaba button');\n",
              "          quickchartButtonEl.style.display =\n",
              "            google.colab.kernel.accessAllowed ? 'block' : 'none';\n",
              "        })();\n",
              "      </script>\n",
              "    </div>\n",
              "\n",
              "    </div>\n",
              "  </div>\n"
            ],
            "application/vnd.google.colaboratory.intrinsic+json": {
              "type": "dataframe",
              "summary": "{\n  \"name\": \"pd\",\n  \"rows\": 4,\n  \"fields\": [\n    {\n      \"column\": \"class\",\n      \"properties\": {\n        \"dtype\": \"string\",\n        \"num_unique_values\": 4,\n        \"samples\": [\n          \"Second\",\n          \"All\",\n          \"First\"\n        ],\n        \"semantic_type\": \"\",\n        \"description\": \"\"\n      }\n    },\n    {\n      \"column\": \"no\",\n      \"properties\": {\n        \"dtype\": \"number\",\n        \"std\": 226,\n        \"min\": 80,\n        \"max\": 549,\n        \"num_unique_values\": 4,\n        \"samples\": [\n          97,\n          549,\n          80\n        ],\n        \"semantic_type\": \"\",\n        \"description\": \"\"\n      }\n    },\n    {\n      \"column\": \"yes\",\n      \"properties\": {\n        \"dtype\": \"number\",\n        \"std\": 115,\n        \"min\": 87,\n        \"max\": 342,\n        \"num_unique_values\": 4,\n        \"samples\": [\n          87,\n          342,\n          136\n        ],\n        \"semantic_type\": \"\",\n        \"description\": \"\"\n      }\n    },\n    {\n      \"column\": \"All\",\n      \"properties\": {\n        \"dtype\": \"number\",\n        \"std\": 327,\n        \"min\": 184,\n        \"max\": 891,\n        \"num_unique_values\": 4,\n        \"samples\": [\n          184,\n          891,\n          216\n        ],\n        \"semantic_type\": \"\",\n        \"description\": \"\"\n      }\n    }\n  ]\n}"
            }
          },
          "metadata": {},
          "execution_count": 15
        }
      ]
    },
    {
      "cell_type": "code",
      "source": [
        "titanic_df['survived'].value_counts(normalize=True)*100"
      ],
      "metadata": {
        "id": "JfYFHqt_lTuP",
        "outputId": "a7b31dbf-3eea-4bbb-8165-975427b46e07",
        "colab": {
          "base_uri": "https://localhost:8080/",
          "height": 178
        }
      },
      "execution_count": 21,
      "outputs": [
        {
          "output_type": "execute_result",
          "data": {
            "text/plain": [
              "survived\n",
              "0    61.616162\n",
              "1    38.383838\n",
              "Name: proportion, dtype: float64"
            ],
            "text/html": [
              "<div>\n",
              "<style scoped>\n",
              "    .dataframe tbody tr th:only-of-type {\n",
              "        vertical-align: middle;\n",
              "    }\n",
              "\n",
              "    .dataframe tbody tr th {\n",
              "        vertical-align: top;\n",
              "    }\n",
              "\n",
              "    .dataframe thead th {\n",
              "        text-align: right;\n",
              "    }\n",
              "</style>\n",
              "<table border=\"1\" class=\"dataframe\">\n",
              "  <thead>\n",
              "    <tr style=\"text-align: right;\">\n",
              "      <th></th>\n",
              "      <th>proportion</th>\n",
              "    </tr>\n",
              "    <tr>\n",
              "      <th>survived</th>\n",
              "      <th></th>\n",
              "    </tr>\n",
              "  </thead>\n",
              "  <tbody>\n",
              "    <tr>\n",
              "      <th>0</th>\n",
              "      <td>61.616162</td>\n",
              "    </tr>\n",
              "    <tr>\n",
              "      <th>1</th>\n",
              "      <td>38.383838</td>\n",
              "    </tr>\n",
              "  </tbody>\n",
              "</table>\n",
              "</div><br><label><b>dtype:</b> float64</label>"
            ]
          },
          "metadata": {},
          "execution_count": 21
        }
      ]
    },
    {
      "cell_type": "markdown",
      "source": [
        "![image.png](data:image/png;base64,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)"
      ],
      "metadata": {
        "id": "pjCU_sQ3ttOU"
      }
    },
    {
      "cell_type": "code",
      "source": [],
      "metadata": {
        "id": "-Oc-SbSRnMdk"
      },
      "execution_count": null,
      "outputs": []
    }
  ]
}