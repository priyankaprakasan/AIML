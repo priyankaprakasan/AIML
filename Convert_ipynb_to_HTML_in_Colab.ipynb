{
  "nbformat": 4,
  "nbformat_minor": 0,
  "metadata": {
    "colab": {
      "name": "Convert ipynb to HTML in Colab.ipynb",
      "provenance": []
    },
    "kernelspec": {
      "name": "python3",
      "display_name": "Python 3"
    },
    "language_info": {
      "name": "python"
    }
  },
  "cells": [
    {
      "cell_type": "markdown",
      "source": [
        "**Instruction**:    \n",
        "1. Download the ipynb, which you want to convert, on your local computer.    \n",
        "2. Run the code below to upload the ipynb.  \n",
        "3. The html version will be downloaded automatically on your local machine.\n",
        "\n",
        "Enjoy it!"
      ],
      "metadata": {
        "id": "OOUwSOZ4AqyT"
      }
    },
    {
      "cell_type": "code",
      "execution_count": null,
      "metadata": {
        "id": "4FhcP565-JpA"
      },
      "outputs": [],
      "source": [
        "#@title Convert ipynb to HTML in Colab\n",
        "# Upload ipynb\n",
        "from google.colab import files\n",
        "f = files.upload()\n",
        "\n",
        "# Convert ipynb to html\n",
        "import subprocess\n",
        "file0 = list(f.keys())[0]\n",
        "_ = subprocess.run([\"pip\", \"install\", \"nbconvert\"])\n",
        "_ = subprocess.run([\"jupyter\", \"nbconvert\", file0, \"--to\", \"html\"])\n",
        "\n",
        "# download the html\n",
        "files.download(file0[:-5]+\"html\")\n"
      ]
    },
    {
      "cell_type": "code",
      "source": [
        "import numpy as np\n",
        "import time as t"
      ],
      "metadata": {
        "id": "R4I7PkUc8Zny"
      },
      "execution_count": 59,
      "outputs": []
    },
    {
      "cell_type": "code",
      "source": [
        "set={12,13,12,'Zen','Aman','Ren','Dame',True, False}\n",
        "set"
      ],
      "metadata": {
        "id": "vW5eaxdKsSMC",
        "outputId": "bf634dcd-9268-4215-e794-70f216932063",
        "colab": {
          "base_uri": "https://localhost:8080/"
        }
      },
      "execution_count": 7,
      "outputs": [
        {
          "output_type": "execute_result",
          "data": {
            "text/plain": [
              "{12, 13, 'Aman', 'Dame', False, 'Ren', True, 'Zen'}"
            ]
          },
          "metadata": {},
          "execution_count": 7
        }
      ]
    },
    {
      "cell_type": "code",
      "source": [
        "set.add()"
      ],
      "metadata": {
        "id": "GNPzTO42sac6",
        "outputId": "4081f18f-4532-4479-dce3-b39905aea61e",
        "colab": {
          "base_uri": "https://localhost:8080/",
          "height": 141
        }
      },
      "execution_count": 8,
      "outputs": [
        {
          "output_type": "error",
          "ename": "TypeError",
          "evalue": "set.add() takes exactly one argument (0 given)",
          "traceback": [
            "\u001b[0;31m---------------------------------------------------------------------------\u001b[0m",
            "\u001b[0;31mTypeError\u001b[0m                                 Traceback (most recent call last)",
            "\u001b[0;32m/tmp/ipython-input-827732993.py\u001b[0m in \u001b[0;36m<cell line: 0>\u001b[0;34m()\u001b[0m\n\u001b[0;32m----> 1\u001b[0;31m \u001b[0mset\u001b[0m\u001b[0;34m.\u001b[0m\u001b[0madd\u001b[0m\u001b[0;34m(\u001b[0m\u001b[0;34m)\u001b[0m\u001b[0;34m\u001b[0m\u001b[0;34m\u001b[0m\u001b[0m\n\u001b[0m",
            "\u001b[0;31mTypeError\u001b[0m: set.add() takes exactly one argument (0 given)"
          ]
        }
      ]
    },
    {
      "cell_type": "code",
      "source": [
        "dict={'name': 34.5}\n",
        "dict"
      ],
      "metadata": {
        "id": "XOFQrDtCuVN8",
        "outputId": "36336966-8b01-4023-dc6e-441fb0aa53ad",
        "colab": {
          "base_uri": "https://localhost:8080/"
        }
      },
      "execution_count": 13,
      "outputs": [
        {
          "output_type": "execute_result",
          "data": {
            "text/plain": [
              "{'name': 34.5}"
            ]
          },
          "metadata": {},
          "execution_count": 13
        }
      ]
    },
    {
      "cell_type": "code",
      "source": [
        "dict['name']=67\n",
        "dict.setdefault('lastname')"
      ],
      "metadata": {
        "id": "sEqdr8aTviQ4"
      },
      "execution_count": 14,
      "outputs": []
    },
    {
      "cell_type": "code",
      "source": [
        "dict"
      ],
      "metadata": {
        "id": "kGedP76hvjKL",
        "outputId": "62aec2f5-13d1-4cca-802f-af04b437ce0f",
        "colab": {
          "base_uri": "https://localhost:8080/"
        }
      },
      "execution_count": 15,
      "outputs": [
        {
          "output_type": "execute_result",
          "data": {
            "text/plain": [
              "{'name': 67, 'lastname': None}"
            ]
          },
          "metadata": {},
          "execution_count": 15
        }
      ]
    },
    {
      "cell_type": "code",
      "source": [
        "dict.setdefault('name')"
      ],
      "metadata": {
        "id": "C-A7OBU4vlP4",
        "outputId": "6ac56098-1b8f-4c2b-c113-c896c56dcb02",
        "colab": {
          "base_uri": "https://localhost:8080/"
        }
      },
      "execution_count": 20,
      "outputs": [
        {
          "output_type": "execute_result",
          "data": {
            "text/plain": [
              "67"
            ]
          },
          "metadata": {},
          "execution_count": 20
        }
      ]
    },
    {
      "cell_type": "code",
      "source": [
        "list_1=[1,2,3,6,7]\n",
        "\n",
        "arr1=np.array(list_1)\n",
        "arr2=arr1+[1,1,1,1,1]\n",
        "arr2"
      ],
      "metadata": {
        "id": "cAfYMUCI8VeD",
        "outputId": "0649440a-13dd-49ff-8bf7-c8750c2566c4",
        "colab": {
          "base_uri": "https://localhost:8080/"
        }
      },
      "execution_count": 36,
      "outputs": [
        {
          "output_type": "execute_result",
          "data": {
            "text/plain": [
              "array([2, 3, 4, 7, 8])"
            ]
          },
          "metadata": {},
          "execution_count": 36
        }
      ]
    },
    {
      "cell_type": "code",
      "source": [
        "# Size of the array\n",
        "arr2.size"
      ],
      "metadata": {
        "id": "b3DqHMW69Jiu",
        "outputId": "930e00b5-adb9-45fa-f357-28410d0fdc0e",
        "colab": {
          "base_uri": "https://localhost:8080/"
        }
      },
      "execution_count": 37,
      "outputs": [
        {
          "output_type": "execute_result",
          "data": {
            "text/plain": [
              "5"
            ]
          },
          "metadata": {},
          "execution_count": 37
        }
      ]
    },
    {
      "cell_type": "code",
      "source": [
        "# Dimension of the array\n",
        "arr2.ndim"
      ],
      "metadata": {
        "id": "nyH42LHQ9Tse",
        "outputId": "59d35e3a-3c97-4f33-be22-841d1085f677",
        "colab": {
          "base_uri": "https://localhost:8080/"
        }
      },
      "execution_count": 38,
      "outputs": [
        {
          "output_type": "execute_result",
          "data": {
            "text/plain": [
              "1"
            ]
          },
          "metadata": {},
          "execution_count": 38
        }
      ]
    },
    {
      "cell_type": "code",
      "source": [
        "# Shape function to know the number of rows and number of columns\n",
        "arr2.shape"
      ],
      "metadata": {
        "id": "MtJwwCY89eiv",
        "outputId": "8d2d40ff-4727-4008-e05b-e308bb7cc569",
        "colab": {
          "base_uri": "https://localhost:8080/"
        }
      },
      "execution_count": 39,
      "outputs": [
        {
          "output_type": "execute_result",
          "data": {
            "text/plain": [
              "(5,)"
            ]
          },
          "metadata": {},
          "execution_count": 39
        }
      ]
    },
    {
      "cell_type": "code",
      "source": [
        "# Data type of array\n",
        "arr2.dtype"
      ],
      "metadata": {
        "id": "UK6GTGqu9wio",
        "outputId": "1347a5af-268f-4fc1-fcd3-d95bf4f48751",
        "colab": {
          "base_uri": "https://localhost:8080/"
        }
      },
      "execution_count": 40,
      "outputs": [
        {
          "output_type": "execute_result",
          "data": {
            "text/plain": [
              "dtype('int64')"
            ]
          },
          "metadata": {},
          "execution_count": 40
        }
      ]
    },
    {
      "cell_type": "code",
      "source": [
        "## 2D array\n",
        "arr3=np.array([[1,2,3],[3,4,5]])\n",
        "arr3.size\n",
        "arr3.dtype"
      ],
      "metadata": {
        "id": "fb1V6ctt9_GQ",
        "outputId": "249ebbc3-f76c-4c43-a0fe-51cb42c0552c",
        "colab": {
          "base_uri": "https://localhost:8080/"
        }
      },
      "execution_count": 46,
      "outputs": [
        {
          "output_type": "execute_result",
          "data": {
            "text/plain": [
              "dtype('int64')"
            ]
          },
          "metadata": {},
          "execution_count": 46
        }
      ]
    },
    {
      "cell_type": "code",
      "source": [
        "## 3D array\n",
        "arr4=np.array([[[1,2,3],[3,4,5],[3,4,5]],[[1,2,3],[3,4,5],[3,4,5]]])\n",
        "arr4.shape\n",
        "# 2 is depth, 3 rows, 3 columns"
      ],
      "metadata": {
        "id": "MKPNy59--sPr",
        "outputId": "2179bcfe-3df7-4998-9d43-b8ff53ee16a8",
        "colab": {
          "base_uri": "https://localhost:8080/"
        }
      },
      "execution_count": 51,
      "outputs": [
        {
          "output_type": "execute_result",
          "data": {
            "text/plain": [
              "(2, 3, 3)"
            ]
          },
          "metadata": {},
          "execution_count": 51
        }
      ]
    },
    {
      "cell_type": "code",
      "source": [
        "m1=np.array([[1,5],[2,3]])\n",
        "m2=np.array([[2,4],[6,7]])"
      ],
      "metadata": {
        "id": "nYClWJwnBnNX"
      },
      "execution_count": 53,
      "outputs": []
    },
    {
      "cell_type": "code",
      "source": [
        "m1"
      ],
      "metadata": {
        "id": "J6Pq2LmgB0DX",
        "outputId": "ac61cc93-aff5-4b33-fff1-8aa9520c97cd",
        "colab": {
          "base_uri": "https://localhost:8080/"
        }
      },
      "execution_count": 54,
      "outputs": [
        {
          "output_type": "execute_result",
          "data": {
            "text/plain": [
              "array([[1, 5],\n",
              "       [2, 3]])"
            ]
          },
          "metadata": {},
          "execution_count": 54
        }
      ]
    },
    {
      "cell_type": "code",
      "source": [
        "m2"
      ],
      "metadata": {
        "id": "DikezHuBB2cN",
        "outputId": "4dbeb3bc-087c-470e-ef9c-d15e3204b053",
        "colab": {
          "base_uri": "https://localhost:8080/"
        }
      },
      "execution_count": 55,
      "outputs": [
        {
          "output_type": "execute_result",
          "data": {
            "text/plain": [
              "array([[2, 4],\n",
              "       [6, 7]])"
            ]
          },
          "metadata": {},
          "execution_count": 55
        }
      ]
    },
    {
      "cell_type": "markdown",
      "source": [
        "### Element wise multiplication"
      ],
      "metadata": {
        "id": "gg8DGgUjEcrb"
      }
    },
    {
      "cell_type": "code",
      "source": [
        "# Element-wise multiplication\n",
        "m1*m2"
      ],
      "metadata": {
        "id": "wfRamGw_B45V",
        "outputId": "63eae30b-726f-4756-bfbb-21f3d586cc07",
        "colab": {
          "base_uri": "https://localhost:8080/"
        }
      },
      "execution_count": 56,
      "outputs": [
        {
          "output_type": "execute_result",
          "data": {
            "text/plain": [
              "array([[ 2, 20],\n",
              "       [12, 21]])"
            ]
          },
          "metadata": {},
          "execution_count": 56
        }
      ]
    },
    {
      "cell_type": "markdown",
      "source": [
        "### Matrix wise multiplication"
      ],
      "metadata": {
        "id": "V8dawR2NEYrZ"
      }
    },
    {
      "cell_type": "code",
      "source": [
        "# Matrix multiplication\n",
        "m1@m2"
      ],
      "metadata": {
        "id": "tqCnzyLHCCiA",
        "outputId": "6487ccbf-5358-40cb-a9eb-5a6111e76def",
        "colab": {
          "base_uri": "https://localhost:8080/"
        }
      },
      "execution_count": 57,
      "outputs": [
        {
          "output_type": "execute_result",
          "data": {
            "text/plain": [
              "array([[32, 39],\n",
              "       [22, 29]])"
            ]
          },
          "metadata": {},
          "execution_count": 57
        }
      ]
    },
    {
      "cell_type": "code",
      "source": [
        "tic = t.time()  # capture start time\n",
        "c = m1*m2\n",
        "toc = t.time()  # capture end time\n",
        "print(f\"Element wise version duration: {1000*(toc-tic):.4f} ms \")\n",
        "c"
      ],
      "metadata": {
        "id": "zzakM3uMGw0-",
        "outputId": "d9490624-f6a7-4d11-941c-f711f63bb28b",
        "colab": {
          "base_uri": "https://localhost:8080/"
        }
      },
      "execution_count": 63,
      "outputs": [
        {
          "output_type": "stream",
          "name": "stdout",
          "text": [
            "Element wise version duration: 0.1047 ms \n"
          ]
        },
        {
          "output_type": "execute_result",
          "data": {
            "text/plain": [
              "array([[ 2, 20],\n",
              "       [12, 21]])"
            ]
          },
          "metadata": {},
          "execution_count": 63
        }
      ]
    },
    {
      "cell_type": "code",
      "source": [
        "tic = t.time()  # capture start time\n",
        "c = np.dot(m1,m2)\n",
        "toc = t.time()  # capture end time\n",
        "print(f\"Vectorized version duration: {1000*(toc-tic):.4f} ms \")\n",
        "c"
      ],
      "metadata": {
        "id": "ArKxkMeeHDCC",
        "outputId": "55cc19e3-2a56-49fe-b747-c75600105d71",
        "colab": {
          "base_uri": "https://localhost:8080/"
        }
      },
      "execution_count": 65,
      "outputs": [
        {
          "output_type": "stream",
          "name": "stdout",
          "text": [
            "Vectorized version duration: 0.1307 ms \n"
          ]
        },
        {
          "output_type": "execute_result",
          "data": {
            "text/plain": [
              "array([[32, 39],\n",
              "       [22, 29]])"
            ]
          },
          "metadata": {},
          "execution_count": 65
        }
      ]
    },
    {
      "cell_type": "code",
      "source": [
        "import numpy as np\n",
        "m1 = np.array([[1, 2], [3, 4]])\n",
        "m2 = np.array([[5, 6], [7, 8]])\n",
        "tic = t.time()  # capture start time\n",
        "c = m1 @ m2\n",
        "toc = t.time()  # capture end time\n",
        "print(f\"Vectorized version duration: {1000*(toc-tic):.4f} ms \")\n",
        "\n",
        "c\n"
      ],
      "metadata": {
        "id": "qjZiZXSRIb1C",
        "outputId": "398f4b2b-30ee-44c5-b1e3-561af4dcc679",
        "colab": {
          "base_uri": "https://localhost:8080/"
        }
      },
      "execution_count": 75,
      "outputs": [
        {
          "output_type": "stream",
          "name": "stdout",
          "text": [
            "Vectorized version duration: 0.0803 ms \n"
          ]
        },
        {
          "output_type": "execute_result",
          "data": {
            "text/plain": [
              "array([[19, 22],\n",
              "       [43, 50]])"
            ]
          },
          "metadata": {},
          "execution_count": 75
        }
      ]
    },
    {
      "cell_type": "code",
      "source": [
        "import numpy as np\n",
        "m1 = np.array([[1, 2], [3, 4]])\n",
        "m2 = np.array([[5, 6], [7, 8]])\n",
        "tic = t.time()  # capture start time\n",
        "c = np.dot(m1 , m2)\n",
        "toc = t.time()  # capture end time\n",
        "print(f\"Vectorized version duration: {1000*(toc-tic):.4f} ms \")\n",
        "c\n"
      ],
      "metadata": {
        "id": "crz7idNhIgCW",
        "outputId": "6c4898dc-c9b5-4f8b-dc86-30df16a7b2eb",
        "colab": {
          "base_uri": "https://localhost:8080/"
        }
      },
      "execution_count": 74,
      "outputs": [
        {
          "output_type": "stream",
          "name": "stdout",
          "text": [
            "Vectorized version duration: 0.1099 ms \n"
          ]
        },
        {
          "output_type": "execute_result",
          "data": {
            "text/plain": [
              "array([[19, 22],\n",
              "       [43, 50]])"
            ]
          },
          "metadata": {},
          "execution_count": 74
        }
      ]
    },
    {
      "cell_type": "code",
      "source": [
        "!pip install google-search-results"
      ],
      "metadata": {
        "id": "b1cHeuWCwWM6",
        "outputId": "52758565-e4c9-4a26-c0bf-ebabbcf8ef73",
        "colab": {
          "base_uri": "https://localhost:8080/"
        }
      },
      "execution_count": 24,
      "outputs": [
        {
          "output_type": "stream",
          "name": "stdout",
          "text": [
            "Collecting google-search-results\n",
            "  Downloading google_search_results-2.4.2.tar.gz (18 kB)\n",
            "  Preparing metadata (setup.py) ... \u001b[?25l\u001b[?25hdone\n",
            "Requirement already satisfied: requests in /usr/local/lib/python3.12/dist-packages (from google-search-results) (2.32.4)\n",
            "Requirement already satisfied: charset_normalizer<4,>=2 in /usr/local/lib/python3.12/dist-packages (from requests->google-search-results) (3.4.3)\n",
            "Requirement already satisfied: idna<4,>=2.5 in /usr/local/lib/python3.12/dist-packages (from requests->google-search-results) (3.10)\n",
            "Requirement already satisfied: urllib3<3,>=1.21.1 in /usr/local/lib/python3.12/dist-packages (from requests->google-search-results) (2.5.0)\n",
            "Requirement already satisfied: certifi>=2017.4.17 in /usr/local/lib/python3.12/dist-packages (from requests->google-search-results) (2025.8.3)\n",
            "Building wheels for collected packages: google-search-results\n",
            "  Building wheel for google-search-results (setup.py) ... \u001b[?25l\u001b[?25hdone\n",
            "  Created wheel for google-search-results: filename=google_search_results-2.4.2-py3-none-any.whl size=32010 sha256=99359b52ce873d6b85843cd46cbc751aaefc6c77158e64276e1d3942f4d153b1\n",
            "  Stored in directory: /root/.cache/pip/wheels/0c/47/f5/89b7e770ab2996baf8c910e7353d6391e373075a0ac213519e\n",
            "Successfully built google-search-results\n",
            "Installing collected packages: google-search-results\n",
            "Successfully installed google-search-results-2.4.2\n"
          ]
        }
      ]
    },
    {
      "cell_type": "code",
      "source": [
        "from serpapi.google_search import GoogleSearch\n",
        "\n",
        "params = {\n",
        "  \"engine\": \"youtube_video\",\n",
        "  \"v\": \"vFcS080VYQ0\",\n",
        "  \"api_key\": \"eee604096c3c87ee509ccc3642a40bec805718f9161881c7bc2fe0e20c195ffc\"\n",
        "}\n",
        "\n",
        "search = GoogleSearch(params)\n",
        "results = search.get_dict()"
      ],
      "metadata": {
        "id": "lcfbeIIE0pHF"
      },
      "execution_count": 28,
      "outputs": []
    },
    {
      "cell_type": "code",
      "source": [
        "results"
      ],
      "metadata": {
        "id": "QQ6dCC7l1AKi",
        "outputId": "9421b5b0-6847-4e0a-976e-e990e1176330",
        "colab": {
          "base_uri": "https://localhost:8080/"
        }
      },
      "execution_count": 29,
      "outputs": [
        {
          "output_type": "execute_result",
          "data": {
            "text/plain": [
              "{'search_metadata': {'id': '68c7e5bd759dbcb6d0340fc6',\n",
              "  'status': 'Success',\n",
              "  'json_endpoint': 'https://serpapi.com/searches/0bae0572e304ae1a/68c7e5bd759dbcb6d0340fc6.json',\n",
              "  'created_at': '2025-09-15 10:09:01 UTC',\n",
              "  'processed_at': '2025-09-15 10:09:01 UTC',\n",
              "  'youtube_video_url': 'https://www.youtube.com/watch?v=vFcS080VYQ0',\n",
              "  'raw_html_file': 'https://serpapi.com/searches/0bae0572e304ae1a/68c7e5bd759dbcb6d0340fc6.html',\n",
              "  'prettify_html_file': 'https://serpapi.com/searches/0bae0572e304ae1a/68c7e5bd759dbcb6d0340fc6.prettify',\n",
              "  'total_time_taken': 1.32},\n",
              " 'search_parameters': {'engine': 'youtube_video', 'v': 'vFcS080VYQ0'},\n",
              " 'title': 'The basics about: Coffee',\n",
              " 'thumbnail': 'https://i.ytimg.com/vi/vFcS080VYQ0/maxresdefault.jpg',\n",
              " 'channel': {'name': 'Old Game Box',\n",
              "  'thumbnail': 'https://yt3.ggpht.com/ytc/AIdro_kMZ5WTp1HyAeBY2MwKPN5lZqyatfx9LzFKolh6v_OTdBo=s176-c-k-c0x00ffffff-no-rj',\n",
              "  'link': 'https://www.youtube.com/@OldGameBox',\n",
              "  'subscribers': '16.5K subscribers',\n",
              "  'extracted_subscribers': 16500},\n",
              " 'views': '2,308,812 views',\n",
              " 'extracted_views': 2308812,\n",
              " 'likes': '57K',\n",
              " 'extracted_likes': 57000,\n",
              " 'published_date': 'Mar 5, 2016',\n",
              " 'description': {'content': 'I\\'m no expert, but I do enjoy a nice cup of coffee.\\n\\nI know this channel is about games, but you drink something while playing every now and then, right?\\nIf you don\\'t, then why don\\'t you give it a try?\\n\\nLet me know what you think!\\n\\nTwitter:\\n\\xa0\\xa0/\\xa0oldgamebox\\xa0\\xa0\\n\\nBackground music:\\n\"George Street Shuffle\"\\nby Kevin MacLeod (incompetech.com)',\n",
              "  'links': [{'start_index': 241,\n",
              "    'length': 16,\n",
              "    'text': '\\xa0\\xa0/\\xa0oldgamebox\\xa0\\xa0',\n",
              "    'url': 'https://twitter.com/OldGameBox'}]},\n",
              " 'chapters': [{'title': 'Intro',\n",
              "   'thumbnail': 'https://i.ytimg.com/vi/vFcS080VYQ0/hqdefault_8866.jpg?sqp=-oaymwEnCNACELwBSFryq4qpAxkIARUAAIhCGAHYAQHiAQoIGBACGAY4AUAB&rs=AOn4CLBjEU5CyZkRa0jVFiAYzI4zMZjQRA',\n",
              "   'time_start': 0},\n",
              "  {'title': 'Types of coffee',\n",
              "   'thumbnail': 'https://i.ytimg.com/vi/vFcS080VYQ0/hqdefault_50833.jpg?sqp=-oaymwEnCNACELwBSFryq4qpAxkIARUAAIhCGAHYAQHiAQoIGBACGAY4AUAB&rs=AOn4CLCP5ZA6E7HNgFhNVs95I-Kg-bunZA',\n",
              "   'time_start': 40},\n",
              "  {'title': 'Roasts',\n",
              "   'thumbnail': 'https://i.ytimg.com/vi/vFcS080VYQ0/hqdefault_150800.jpg?sqp=-oaymwEnCNACELwBSFryq4qpAxkIARUAAIhCGAHYAQHiAQoIGBACGAY4AUAB&rs=AOn4CLBJJH8AtRyaPbCkmO0kvyfg1cc0Vg',\n",
              "   'time_start': 122},\n",
              "  {'title': 'Water',\n",
              "   'thumbnail': 'https://i.ytimg.com/vi/vFcS080VYQ0/hqdefault_215766.jpg?sqp=-oaymwEnCNACELwBSFryq4qpAxkIARUAAIhCGAHYAQHiAQoIGBACGAY4AUAB&rs=AOn4CLDdGbXQm8jR2KKMSZwyKC_LrUuWpw',\n",
              "   'time_start': 192}],\n",
              " 'related_videos_next_page_token': 'CBQSKRILdkZjUzA4MFZZUTDAAQDIAQDgAQGiAg0o____________AUAA-AIAGAAquAdNZ3NJaDVYdjRfbkwzNldLQWRyT2ktc010Z1VLc3dVS0FfSS1BQW9Pd2o0TENQakxrUGlUek52dHdRRUtEc0ktQ3dpT3JlX2EyNXVTaVk0QkNnN0NQZ3NJX3FqRzBmUDN3ZGFnQVFvTndqNEtDSTd2dGM2QnB1YjhYZ29Od2o0S0NJeTQ1dkg2aklpYkhRb0Q4ajRBQ2c3Q1Bnc0l4OGJCdU96bTFJSzlBUW9EOGo0QUNnM0NQZ29JbTZEU3RhYlpwdTl6Q2dQeVBnQUtEc0ktQ3dqVzBjbUxybzdza0pZQkNnUHlQZ0FLRGNJLUNnaml5ckNybzhIbjVEY0tBX0ktQUFvTndqNEtDSXZNMGFyUzZOdUhEd29EOGo0QUNnM0NQZ29JcS1IM3d2YUkzS0l0Q2dQeVBnQUtEY0ktQ2dpeGlfSEcwNGJhLVFVS0FfSS1BQW9Od2o0S0NQejh0dlBNcXBMUU53b0Q4ajRBQ2c3Q1Bnc0lqclBRNEtMXzk0LUJBUW9EOGo0QUNnN0NQZ3NJeC03aDBxemhpczJHQVFvRDhqNEFDZzdDUGdzSWtwYklpNkRIbXBtbUFRb0Q4ajRBQ2c3Q1Bnc0l4dGZTNWRDaHBkdXNBUW9EOGo0QUNnN0NQZ3NJbHBPR29OeXdnYVhGQVFvRDhqNEFDZzdDUGdzSV9KRC11Ym5aaVBIQ0FRb0Q4ajRBQ2czQ1Bnb0lxNGFobGFydXdNbDZDZ1B5UGdBS0RzSS1Dd2pPdzZIUno4YWJyNDhCQ2dQeVBnQUtEc0ktQ3dpYjZjN3dzcjNlaHNVQkNnUHlQZ0FLRHNJLUN3ak41cDctanBIRi0tSUJDZ1B5UGdBS0RjSS1DZ2lreHJ5Y3hmZlZpZ3NLQV9JLUFBb093ajRMQ0llVjctUDV5OS1saWdFU0ZRQUdDQW9NRGhBU0ZCWVlHaHdlSUNJa0ppZ3FMQm9FQ0FBUUFSb0VDQUFRQWhvRUNBQVFBeG9FQ0FBUUJCb0VDQUFRQlJvRUNBWVFCeG9FQ0FnUUNSb0VDQW9RQ3hvRUNBd1FEUm9FQ0E0UUR4b0VDQkFRRVJvRUNCSVFFeG9FQ0JRUUZSb0VDQllRRnhvRUNCZ1FHUm9FQ0JvUUd4b0VDQndRSFJvRUNCNFFIeG9FQ0NBUUlSb0VDQ0lRSXhvRUNDUVFKUm9FQ0NZUUp4b0VDQ2dRS1JvRUNDb1FLeG9FQ0N3UUxTb1ZBQVlJQ2d3T0VCSVVGaGdhSEI0Z0lpUW1LQ29zag93YXRjaC1uZXh0LWZlZWQ%3D',\n",
              " 'end_screen_videos': [{'video_id': 'vQVTNscQY0c',\n",
              "   'link': 'https://www.youtube.com/watch?v=vQVTNscQY0c',\n",
              "   'serpapi_link': 'https://serpapi.com/search.json?engine=youtube_video&v=vQVTNscQY0c',\n",
              "   'thumbnail': 'https://i.ytimg.com/vi/vQVTNscQY0c/hqdefault.jpg?sqp=-oaymwEnCNACELwBSFryq4qpAxkIARUAAIhCGAHYAQHiAQoIGBACGAY4AUAB&rs=AOn4CLC09CvcO2thHwHmS4YbMlC3LGDTPw',\n",
              "   'title': 'Coffee Brewing Methods: French Press vs Pour Over vs AeroPress and more!',\n",
              "   'published_date': '4 years ago',\n",
              "   'views': '2.2M views',\n",
              "   'extracted_views': 2200000,\n",
              "   'length': '17:03',\n",
              "   'channel': {'name': 'European Coffee Trip',\n",
              "    'link': 'https://www.youtube.com/@EuropeanCoffeeTrip'}},\n",
              "  {'video_id': 'c96ayma0kBs',\n",
              "   'link': 'https://www.youtube.com/watch?v=c96ayma0kBs',\n",
              "   'serpapi_link': 'https://serpapi.com/search.json?engine=youtube_video&v=c96ayma0kBs',\n",
              "   'thumbnail': 'https://i.ytimg.com/vi/c96ayma0kBs/hqdefault.jpg?sqp=-oaymwEnCNACELwBSFryq4qpAxkIARUAAIhCGAHYAQHiAQoIGBACGAY4AUAB&rs=AOn4CLDGwpdi8Ey8mk7bnwcSUa8auNQOSQ',\n",
              "   'title': 'The most complete history of coffee and its variants',\n",
              "   'published_date': '3 years ago',\n",
              "   'views': '24K views',\n",
              "   'extracted_views': 24000,\n",
              "   'length': '26:03',\n",
              "   'channel': {'name': 'Atlas',\n",
              "    'link': 'https://www.youtube.com/@atlas-stories'}},\n",
              "  {'video_id': 'liGwcuFyaNY',\n",
              "   'link': 'https://www.youtube.com/watch?v=liGwcuFyaNY',\n",
              "   'serpapi_link': 'https://serpapi.com/search.json?engine=youtube_video&v=liGwcuFyaNY',\n",
              "   'thumbnail': 'https://i.ytimg.com/vi/liGwcuFyaNY/hqdefault.jpg?sqp=-oaymwEnCNACELwBSFryq4qpAxkIARUAAIhCGAHYAQHiAQoIGBACGAY4AUAB&rs=AOn4CLBvXtw-cBsgcBSFXTwV5dxzzCPWPw',\n",
              "   'title': 'Coffee Expert Guesses Cheap vs. Expensive Coffee | Price Points | Epicurious',\n",
              "   'published_date': '7 years ago',\n",
              "   'views': '4.5M views',\n",
              "   'extracted_views': 4500000,\n",
              "   'length': '17:17',\n",
              "   'channel': {'name': 'Epicurious',\n",
              "    'link': 'https://www.youtube.com/@epicurious'}},\n",
              "  {'video_id': 'N8meCjVsJWI',\n",
              "   'link': 'https://www.youtube.com/watch?v=N8meCjVsJWI',\n",
              "   'serpapi_link': 'https://serpapi.com/search.json?engine=youtube_video&v=N8meCjVsJWI',\n",
              "   'thumbnail': 'https://i.ytimg.com/vi/N8meCjVsJWI/hqdefault.jpg?sqp=-oaymwFBCNACELwBSFryq4qpAzMIARUAAIhCGAHYAQHiAQoIGBACGAY4AUAB8AEB-AH-CYAC0AWKAgwIABABGGUgTChDMA8=&rs=AOn4CLAD7BjGei_1KdiuBJyfR5MXqzyQ_A',\n",
              "   'title': \"Everything you've ever wanted to know about coffee | Chandler Graf | TEDxACU\",\n",
              "   'published_date': '8 years ago',\n",
              "   'views': '2.5M views',\n",
              "   'extracted_views': 2500000,\n",
              "   'length': '14:37',\n",
              "   'channel': {'name': 'TEDx Talks', 'link': 'https://www.youtube.com/@TEDx'}},\n",
              "  {'video_id': 'Dw9vRSVUZgs',\n",
              "   'link': 'https://www.youtube.com/watch?v=Dw9vRSVUZgs',\n",
              "   'serpapi_link': 'https://serpapi.com/search.json?engine=youtube_video&v=Dw9vRSVUZgs',\n",
              "   'thumbnail': 'https://i.ytimg.com/vi/Dw9vRSVUZgs/hqdefault.jpg?sqp=-oaymwEnCNACELwBSFryq4qpAxkIARUAAIhCGAHYAQHiAQoIGBACGAY4AUAB&rs=AOn4CLDmK5OztjHwex6jkj_T0ZS4sZBoSQ',\n",
              "   'title': 'Stop Wasting Money on Chicken',\n",
              "   'published_date': '1 month ago',\n",
              "   'views': '1.5M views',\n",
              "   'extracted_views': 1500000,\n",
              "   'length': '15:46',\n",
              "   'channel': {'name': 'TriggTube',\n",
              "    'link': 'https://www.youtube.com/@TriggTube'}},\n",
              "  {'video_id': 'LUVwR2hd8Ks',\n",
              "   'link': 'https://www.youtube.com/watch?v=LUVwR2hd8Ks',\n",
              "   'serpapi_link': 'https://serpapi.com/search.json?engine=youtube_video&v=LUVwR2hd8Ks',\n",
              "   'thumbnail': 'https://i.ytimg.com/vi/LUVwR2hd8Ks/hqdefault.jpg?sqp=-oaymwEnCNACELwBSFryq4qpAxkIARUAAIhCGAHYAQHiAQoIGBACGAY4AUAB&rs=AOn4CLD4fI3xrzilfDXcyPylazxPTNPGHg',\n",
              "   'title': 'Essential Coffee Drinks You Should Know',\n",
              "   'published_date': '1 year ago',\n",
              "   'views': '565K views',\n",
              "   'extracted_views': 565000,\n",
              "   'length': '18:20',\n",
              "   'channel': {'name': 'Morgan Eckroth',\n",
              "    'link': 'https://www.youtube.com/@morgandrinkscoffee'}},\n",
              "  {'video_id': 'BfNoNTjcRbE',\n",
              "   'link': 'https://www.youtube.com/watch?v=BfNoNTjcRbE',\n",
              "   'serpapi_link': 'https://serpapi.com/search.json?engine=youtube_video&v=BfNoNTjcRbE',\n",
              "   'thumbnail': 'https://i.ytimg.com/vi/BfNoNTjcRbE/hqdefault.jpg?sqp=-oaymwEnCNACELwBSFryq4qpAxkIARUAAIhCGAHYAQHiAQoIGBACGAY4AUAB&rs=AOn4CLAICb4Yz44IrfNA4uJ6qLWCObfOHA',\n",
              "   'title': 'How We All Got Obsessed With A $6 Dripper',\n",
              "   'published_date': '3 months ago',\n",
              "   'views': '910K views',\n",
              "   'extracted_views': 910000,\n",
              "   'length': '21:32',\n",
              "   'channel': {'name': 'James Hoffmann',\n",
              "    'link': 'https://www.youtube.com/@jameshoffmann'}},\n",
              "  {'video_id': 'N6BJVM5tvnw',\n",
              "   'link': 'https://www.youtube.com/watch?v=N6BJVM5tvnw',\n",
              "   'serpapi_link': 'https://serpapi.com/search.json?engine=youtube_video&v=N6BJVM5tvnw',\n",
              "   'thumbnail': 'https://i.ytimg.com/vi/N6BJVM5tvnw/hqdefault.jpg?sqp=-oaymwEnCNACELwBSFryq4qpAxkIARUAAIhCGAHYAQHiAQoIGBACGAY4AUAB&rs=AOn4CLAyX0ftuW7nIIzdZFzer2AA6L0Kxg',\n",
              "   'title': 'Coffee Roasting Explained',\n",
              "   'published_date': '2 years ago',\n",
              "   'views': '1.7M views',\n",
              "   'extracted_views': 1700000,\n",
              "   'length': '18:38',\n",
              "   'channel': {'name': 'James Hoffmann',\n",
              "    'link': 'https://www.youtube.com/@jameshoffmann'}},\n",
              "  {'video_id': 'gR_f-iwUGY4',\n",
              "   'link': 'https://www.youtube.com/watch?v=gR_f-iwUGY4',\n",
              "   'serpapi_link': 'https://serpapi.com/search.json?engine=youtube_video&v=gR_f-iwUGY4',\n",
              "   'thumbnail': 'https://i.ytimg.com/vi/gR_f-iwUGY4/hqdefault.jpg?sqp=-oaymwEnCNACELwBSFryq4qpAxkIARUAAIhCGAHYAQHiAQoIGBACGAY4AUAB&rs=AOn4CLAw7eAYNIS-aMGobe5oug2CUP7tSA',\n",
              "   'title': 'The Optimal Morning Routine - Andrew Huberman',\n",
              "   'published_date': '2 years ago',\n",
              "   'views': '7.9M views',\n",
              "   'extracted_views': 7900000,\n",
              "   'length': '16:29',\n",
              "   'channel': {'name': 'After Skool',\n",
              "    'link': 'https://www.youtube.com/@AfterSkool'}},\n",
              "  {'video_id': 'hporCspYd0c',\n",
              "   'link': 'https://www.youtube.com/watch?v=hporCspYd0c',\n",
              "   'serpapi_link': 'https://serpapi.com/search.json?engine=youtube_video&v=hporCspYd0c',\n",
              "   'thumbnail': 'https://i.ytimg.com/vi/hporCspYd0c/hqdefault.jpg?sqp=-oaymwEnCNACELwBSFryq4qpAxkIARUAAIhCGAHYAQHiAQoIGBACGAY4AUAB&rs=AOn4CLC9L4rABzbbpRQUuMbXoYJF0Eg_RA',\n",
              "   'title': 'How Instant Coffee Is Made In Factory',\n",
              "   'published_date': '8 months ago',\n",
              "   'views': '4.4M views',\n",
              "   'extracted_views': 4400000,\n",
              "   'length': '13:57',\n",
              "   'channel': {'name': 'Made Vision',\n",
              "    'link': 'https://www.youtube.com/@MadeVision-TV'}},\n",
              "  {'video_id': 'pjJqOgFyCxI',\n",
              "   'link': 'https://www.youtube.com/watch?v=pjJqOgFyCxI',\n",
              "   'serpapi_link': 'https://serpapi.com/search.json?engine=youtube_video&v=pjJqOgFyCxI',\n",
              "   'thumbnail': 'https://i.ytimg.com/vi/pjJqOgFyCxI/hqdefault.jpg?sqp=-oaymwEnCNACELwBSFryq4qpAxkIARUAAIhCGAHYAQHiAQoIGBACGAY4AUAB&rs=AOn4CLBQ9ERIY7STbQZPWwmnL31TUnR6lA',\n",
              "   'title': 'James Hoffmann Answers Coffee Questions From Twitter | Tech Support | WIRED',\n",
              "   'published_date': '2 years ago',\n",
              "   'views': '4.2M views',\n",
              "   'extracted_views': 4200000,\n",
              "   'length': '22:14',\n",
              "   'channel': {'name': 'WIRED', 'link': 'https://www.youtube.com/@WIRED'}},\n",
              "  {'video_id': 'rLaVDQy0q8Y',\n",
              "   'link': 'https://www.youtube.com/watch?v=rLaVDQy0q8Y',\n",
              "   'serpapi_link': 'https://serpapi.com/search.json?engine=youtube_video&v=rLaVDQy0q8Y',\n",
              "   'thumbnail': 'https://i.ytimg.com/vi/rLaVDQy0q8Y/hqdefault.jpg?sqp=-oaymwEnCNACELwBSFryq4qpAxkIARUAAIhCGAHYAQHiAQoIGBACGAY4AUAB&rs=AOn4CLARv8tD3cTjOi-04qs4Ov-t-jBbvQ',\n",
              "   'title': 'Coffee Menu Explained - What the most common coffees are and how to make them',\n",
              "   'published_date': '4 years ago',\n",
              "   'views': '2.1M views',\n",
              "   'extracted_views': 2100000,\n",
              "   'length': '16:49',\n",
              "   'channel': {'name': 'Artisti Coffee Roasters.',\n",
              "    'link': 'https://www.youtube.com/@ArtistiCoffeeRoasters'}}],\n",
              " 'comments_next_page_token': 'Eg0SC3ZGY1MwODBWWVEwGAYyJSIRIgt2RmNTMDgwVllRMDAAeAJCEGNvbW1lbnRzLXNlY3Rpb24%3D',\n",
              " 'comments_sorting_token': [{'title': 'Top comments',\n",
              "   'token': 'Eg0SC3ZGY1MwODBWWVEwGAYyVSIuIgt2RmNTMDgwVllRMDAAeAKqAhpVZ3pxTGI3eko2SnJWMHVibDZKNEFhQUJBZzABQiFlbmdhZ2VtZW50LXBhbmVsLWNvbW1lbnRzLXNlY3Rpb24%3D'},\n",
              "  {'title': 'Newest first',\n",
              "   'token': 'Eg0SC3ZGY1MwODBWWVEwGAYyOCIRIgt2RmNTMDgwVllRMDABeAIwAUIhZW5nYWdlbWVudC1wYW5lbC1jb21tZW50cy1zZWN0aW9u'}]}"
            ]
          },
          "metadata": {},
          "execution_count": 29
        }
      ]
    },
    {
      "cell_type": "code",
      "source": [],
      "metadata": {
        "id": "ssCFi_4714z4"
      },
      "execution_count": null,
      "outputs": []
    }
  ]
}